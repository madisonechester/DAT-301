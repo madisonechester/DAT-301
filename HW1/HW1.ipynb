{
 "cells": [
  {
   "cell_type": "markdown",
   "metadata": {},
   "source": [
    "Before you turn this problem in, make sure everything runs as expected. First, **restart the kernel** (in the menubar, select Kernel$\\rightarrow$Restart) and then **run all cells** (in the menubar, select Cell$\\rightarrow$Run All).\n",
    "\n",
    "Make sure you fill in any place that says `YOUR CODE HERE` or \"YOUR ANSWER HERE\", as well as your name and collaborators below:"
   ]
  },
  {
   "cell_type": "code",
   "execution_count": 65,
   "metadata": {},
   "outputs": [
    {
     "ename": "ERROR",
     "evalue": "Error in parse(text = x, srcfile = src): <text>:1:16: unexpected symbol\n1: NAME = Madison Chester\n                   ^\n",
     "output_type": "error",
     "traceback": [
      "Error in parse(text = x, srcfile = src): <text>:1:16: unexpected symbol\n1: NAME = Madison Chester\n                   ^\nTraceback:\n"
     ]
    }
   ],
   "source": [
    "NAME = Madison Chester\n",
    "COLLABORATORS = \"\""
   ]
  },
  {
   "cell_type": "markdown",
   "metadata": {},
   "source": [
    "---"
   ]
  },
  {
   "cell_type": "code",
   "execution_count": null,
   "metadata": {
    "deletable": false,
    "editable": false,
    "nbgrader": {
     "cell_type": "code",
     "checksum": "4f0c1b8e5141472e846c0fe18c9a2667",
     "grade": false,
     "grade_id": "cell-9fee0b6bde088dca",
     "locked": true,
     "schema_version": 3,
     "solution": false,
     "task": false
    }
   },
   "outputs": [],
   "source": [
    "## Import needed libraries\n",
    "## Make sure you run this code cell first!\n",
    "\n",
    "library(testthat)\n",
    "library(digest)\n",
    "library(stringr)"
   ]
  },
  {
   "cell_type": "markdown",
   "metadata": {
    "deletable": false,
    "editable": false,
    "nbgrader": {
     "cell_type": "markdown",
     "checksum": "be6b31c909c246de65c039cbedb10484",
     "grade": false,
     "grade_id": "cell-48c2db671d9d618e",
     "locked": true,
     "schema_version": 3,
     "solution": false,
     "task": false
    }
   },
   "source": [
    "### Question 1\n",
    "Create a variable `x` that is a vector consisting of the first $100$ natural numbers: $1, 2, 3, \\dots , 100$\n",
    "\n",
    "In addition, create a variable `y` that is a vector of squares of first $100$ natural numbers: $1^2, 2^2, 3^2, \\dots , 100^2$."
   ]
  },
  {
   "cell_type": "code",
   "execution_count": 15,
   "metadata": {
    "deletable": false,
    "nbgrader": {
     "cell_type": "code",
     "checksum": "044062e4f34d056e056be9a653d86018",
     "grade": false,
     "grade_id": "cell-b5a249261ec2933e",
     "locked": false,
     "schema_version": 3,
     "solution": true,
     "task": false
    }
   },
   "outputs": [],
   "source": [
    "x = 1:100\n",
    "y = x^2"
   ]
  },
  {
   "cell_type": "code",
   "execution_count": 16,
   "metadata": {
    "deletable": false,
    "editable": false,
    "nbgrader": {
     "cell_type": "code",
     "checksum": "37844389915c0302cf8d3802b9a4f4ba",
     "grade": true,
     "grade_id": "cell-d7167a0e211c7723",
     "locked": true,
     "points": 1,
     "schema_version": 3,
     "solution": false,
     "task": false
    }
   },
   "outputs": [
    {
     "name": "stdout",
     "output_type": "stream",
     "text": [
      "\u001b[32mTest passed\u001b[39m 🌈\n",
      "\u001b[32mTest passed\u001b[39m 🌈\n",
      "\u001b[32mTest passed\u001b[39m 🎉\n"
     ]
    }
   ],
   "source": [
    "# check whether you created vectors x and y, which are numeric and of length 100 \n",
    "\n",
    "library(testthat) #in case you forgot to run the first cell (but please run it anyways)\n",
    "\n",
    "if (test_that(desc=\"\", code={\n",
    "    expect_equal(is.vector(x), TRUE)\n",
    "    expect_equal(is.vector(y), TRUE)\n",
    "}) != TRUE) stop(\"Sorry, x or y is not created as a vector\")\n",
    "\n",
    "if (test_that(desc=\"\", code={\n",
    "    expect_equal(is.numeric(x), TRUE)\n",
    "    expect_equal(is.numeric(y), TRUE)\n",
    "}) != TRUE) stop(\"Sorry, x or y is not numeric\")\n",
    "\n",
    "if (test_that(desc=\"\", code={\n",
    "    expect_equal(length(x), 100)\n",
    "    expect_equal(length(y), 100)\n",
    "}) != TRUE) stop(\"Sorry, wrong length for at least one of the vectors\")"
   ]
  },
  {
   "cell_type": "code",
   "execution_count": 17,
   "metadata": {
    "deletable": false,
    "editable": false,
    "nbgrader": {
     "cell_type": "code",
     "checksum": "b5b94133b9f6a4cf022626b8f9c226a2",
     "grade": true,
     "grade_id": "cell-0ce3e5d53d11cdaf",
     "locked": true,
     "points": 1,
     "schema_version": 3,
     "solution": false,
     "task": false
    }
   },
   "outputs": [],
   "source": [
    "# test whether x is correct (hidden test)\n"
   ]
  },
  {
   "cell_type": "code",
   "execution_count": 18,
   "metadata": {
    "deletable": false,
    "editable": false,
    "nbgrader": {
     "cell_type": "code",
     "checksum": "523358be47c7e13acb8b61761a1b725e",
     "grade": true,
     "grade_id": "cell-38c2a2f56aed09c2",
     "locked": true,
     "points": 1,
     "schema_version": 3,
     "solution": false,
     "task": false
    }
   },
   "outputs": [],
   "source": [
    "# test whether y is correct (hidden test)\n"
   ]
  },
  {
   "cell_type": "markdown",
   "metadata": {
    "deletable": false,
    "editable": false,
    "nbgrader": {
     "cell_type": "markdown",
     "checksum": "99eaa4e89127533afc8e50fb9dc6634f",
     "grade": false,
     "grade_id": "cell-15e6de3ac740a3c5",
     "locked": true,
     "schema_version": 3,
     "solution": false,
     "task": false
    }
   },
   "source": [
    "### Question 2\n",
    "Create a variable `x`, and make it a vector of integers with the pattern $1, 4, 7, \\dots , 193, 196, 199$.\n",
    "\n",
    "Create a variable `y`, and make this a vector of logical values corresponding to `x`, such that `y[i] = FALSE` if `x[i] < 75` and `y[i] = TRUE` if `x[i] >= 75`.  So, `y[1]` should be `FALSE`. Note that `x` and `y` must also have the same lengths."
   ]
  },
  {
   "cell_type": "code",
   "execution_count": 19,
   "metadata": {
    "deletable": false,
    "nbgrader": {
     "cell_type": "code",
     "checksum": "2b3335112d8bef2982c99caf4957508f",
     "grade": false,
     "grade_id": "cell-e2cbe159fa2af38e",
     "locked": false,
     "schema_version": 3,
     "solution": true,
     "task": false
    }
   },
   "outputs": [],
   "source": [
    "x = seq(from=1, to=200, by=3)\n",
    "y = x > 75"
   ]
  },
  {
   "cell_type": "code",
   "execution_count": 20,
   "metadata": {
    "deletable": false,
    "editable": false,
    "nbgrader": {
     "cell_type": "code",
     "checksum": "835800913afc205a1bd6caca52a9d262",
     "grade": true,
     "grade_id": "cell-3020dd984e57fb20",
     "locked": true,
     "points": 1,
     "schema_version": 3,
     "solution": false,
     "task": false
    }
   },
   "outputs": [
    {
     "name": "stdout",
     "output_type": "stream",
     "text": [
      "\u001b[32mTest passed\u001b[39m 🥳\n",
      "\u001b[32mTest passed\u001b[39m 🥇\n",
      "\u001b[32mTest passed\u001b[39m 🎊\n"
     ]
    }
   ],
   "source": [
    "# check whether you created vectors x and y of the correct type and length\n",
    "\n",
    "if (test_that(desc=\"\", code={\n",
    "    expect_equal(is.vector(x), TRUE)\n",
    "    expect_equal(is.vector(y), TRUE)\n",
    "}) != TRUE) stop(\"Sorry, x or y is not created as a vector\")\n",
    "\n",
    "if (test_that(desc=\"\", code={\n",
    "    expect_equal(is.numeric(x), TRUE)\n",
    "    expect_equal(is.logical(y), TRUE)\n",
    "}) != TRUE) stop(\"Sorry, x or y is of the correct type\")\n",
    "\n",
    "if (test_that(desc=\"\", code={\n",
    "    expect_equal(length(x), 67)\n",
    "    expect_equal(length(y), 67)\n",
    "}) != TRUE) stop(\"Sorry, wrong length for at least one of the vectors\")"
   ]
  },
  {
   "cell_type": "code",
   "execution_count": 21,
   "metadata": {
    "deletable": false,
    "editable": false,
    "nbgrader": {
     "cell_type": "code",
     "checksum": "fb28bc48e7094a5862842ea909f613be",
     "grade": true,
     "grade_id": "cell-58fc523eb40c2e73",
     "locked": true,
     "points": 1,
     "schema_version": 3,
     "solution": false,
     "task": false
    }
   },
   "outputs": [],
   "source": [
    "# test whether x is correct (hidden test)\n"
   ]
  },
  {
   "cell_type": "code",
   "execution_count": 22,
   "metadata": {
    "deletable": false,
    "editable": false,
    "nbgrader": {
     "cell_type": "code",
     "checksum": "6de23f5df65022dd8f1bfcf424a3ed5b",
     "grade": true,
     "grade_id": "cell-e61699e2fe1fd746",
     "locked": true,
     "points": 1,
     "schema_version": 3,
     "solution": false,
     "task": false
    }
   },
   "outputs": [],
   "source": [
    "# test whether y is correct (hidden test)\n"
   ]
  },
  {
   "cell_type": "markdown",
   "metadata": {
    "deletable": false,
    "editable": false,
    "nbgrader": {
     "cell_type": "markdown",
     "checksum": "3a5d03ecf3d2b740607e5795df48a0d3",
     "grade": false,
     "grade_id": "cell-d0ab3fd624825b97",
     "locked": true,
     "schema_version": 3,
     "solution": false,
     "task": false
    }
   },
   "source": [
    "### Question 3\n",
    "Create a vector, `x`, that consists of the pattern $1,2,3$ repeated 1,000 times.  That is, if we repeated 3 times, we'd get:\n",
    "\n",
    "`x = 1 2 3 1 2 3 1 2 3`\n",
    "\n",
    "Now, just create the variable `x` and make it the 3,000 element vector `1 2 3 1 2 3 1 2 3...`. This should only take you a single line of code!"
   ]
  },
  {
   "cell_type": "code",
   "execution_count": 23,
   "metadata": {
    "deletable": false,
    "nbgrader": {
     "cell_type": "code",
     "checksum": "a9d1bcc222629bb7fd2e83b715b23e6a",
     "grade": false,
     "grade_id": "cell-9ab7d73d452dcead",
     "locked": false,
     "schema_version": 3,
     "solution": true,
     "task": false
    }
   },
   "outputs": [],
   "source": [
    "x = rep(c(1,2,3),times=1000)"
   ]
  },
  {
   "cell_type": "code",
   "execution_count": 24,
   "metadata": {
    "deletable": false,
    "editable": false,
    "nbgrader": {
     "cell_type": "code",
     "checksum": "a19bd2d2745ea5eceaddf36d4b3734c8",
     "grade": true,
     "grade_id": "cell-928fe10501737eab",
     "locked": true,
     "points": 1,
     "schema_version": 3,
     "solution": false,
     "task": false
    }
   },
   "outputs": [
    {
     "name": "stdout",
     "output_type": "stream",
     "text": [
      "\u001b[32mTest passed\u001b[39m 🌈\n"
     ]
    }
   ],
   "source": [
    "# check that x is the correct length\n",
    "\n",
    "if (test_that(desc=\"\", code={\n",
    "    expect_equal(length(x), 3000)\n",
    "}) != TRUE) stop(\"Sorry, wrong length for x\")"
   ]
  },
  {
   "cell_type": "code",
   "execution_count": 25,
   "metadata": {
    "deletable": false,
    "editable": false,
    "nbgrader": {
     "cell_type": "code",
     "checksum": "f91124921757058c09b00a81a1b5f16c",
     "grade": true,
     "grade_id": "cell-173d6814aa03035d",
     "locked": true,
     "points": 2,
     "schema_version": 3,
     "solution": false,
     "task": false
    }
   },
   "outputs": [],
   "source": [
    "## check that your answer is correct (hidden test)\n"
   ]
  },
  {
   "cell_type": "markdown",
   "metadata": {
    "deletable": false,
    "editable": false,
    "nbgrader": {
     "cell_type": "markdown",
     "checksum": "019b651b3b8b7c87e7dca59e7551044d",
     "grade": false,
     "grade_id": "cell-11f3894fb986e57d",
     "locked": true,
     "schema_version": 3,
     "solution": false,
     "task": false
    }
   },
   "source": [
    "### Question 4\n",
    "Let vector `x` be defined by the expression\n",
    "\n",
    "`x = c(-2, 0, 'a', TRUE, FALSE)`\n",
    "\n",
    "What atomic type is the vector `x`?\n",
    "\n",
    "(a) character\n",
    "\n",
    "(b) integer\n",
    "\n",
    "(c) double (real, float)\n",
    "\n",
    "(d) logical (boolean)\n",
    "\n",
    "(e) illogical\n",
    "\n",
    "To answer this question, create a character variable `ans` and assign it one of the 5 letters that corresponds to the answer you think it is correct. For example, if you think `(e)` is correct, then type\n",
    "\n",
    "`ans = \"e\"`\n",
    " "
   ]
  },
  {
   "cell_type": "code",
   "execution_count": 26,
   "metadata": {
    "deletable": false,
    "nbgrader": {
     "cell_type": "code",
     "checksum": "84db3ce08608729fa913857fd64dbb43",
     "grade": false,
     "grade_id": "cell-fd9895601bd8ee93",
     "locked": false,
     "schema_version": 3,
     "solution": true,
     "task": false
    }
   },
   "outputs": [],
   "source": [
    "ans = \"a\""
   ]
  },
  {
   "cell_type": "code",
   "execution_count": 27,
   "metadata": {
    "deletable": false,
    "editable": false,
    "nbgrader": {
     "cell_type": "code",
     "checksum": "1d421f38e63ae4f7ef53d45e6cab2ebd",
     "grade": true,
     "grade_id": "cell-430532b4b20a9fd8",
     "locked": true,
     "points": 1,
     "schema_version": 3,
     "solution": false,
     "task": false
    }
   },
   "outputs": [
    {
     "name": "stdout",
     "output_type": "stream",
     "text": [
      "\u001b[32mTest passed\u001b[39m 🌈\n"
     ]
    }
   ],
   "source": [
    "# check whether `ans` is one of the characters {\"a\",\"b\",\"c\",\"d\",\"e\"}\n",
    "\n",
    "if (test_that(desc=\"\",code={\n",
    "    expect_equal(ans %in% c(\"a\",\"b\",\"c\",\"d\",\"e\"), TRUE)\n",
    "}) != TRUE) stop(\"Sorry, ans is not one of the letters a-e\")"
   ]
  },
  {
   "cell_type": "code",
   "execution_count": 28,
   "metadata": {
    "deletable": false,
    "editable": false,
    "nbgrader": {
     "cell_type": "code",
     "checksum": "c0a00d13eeb381ff453e0a446126a8ff",
     "grade": true,
     "grade_id": "cell-c7d8ca5a45b637d5",
     "locked": true,
     "points": 2,
     "schema_version": 3,
     "solution": false,
     "task": false
    }
   },
   "outputs": [],
   "source": [
    "# check whether your answer is correct (hidden test)\n"
   ]
  },
  {
   "cell_type": "markdown",
   "metadata": {
    "deletable": false,
    "editable": false,
    "nbgrader": {
     "cell_type": "markdown",
     "checksum": "34941816b204eb1b6ef36de6fae3cb55",
     "grade": false,
     "grade_id": "cell-q3",
     "locked": true,
     "schema_version": 3,
     "solution": false,
     "task": false
    }
   },
   "source": [
    "### Question 5\n",
    "A key property of vectors in R is that\n",
    "\n",
    "(a) the length of a vector must be less than a billion\n",
    "\n",
    "(b) components of a vector can be of different atomic types/classes\n",
    "\n",
    "(c) components of a vector must all be of the same atomic type/class\n",
    "\n",
    "(d) components of a vector can only be numeric or character\n",
    "\n",
    "(e) they like to dance \t(&#128131;)\n",
    "\n",
    "**NOTE:** To answer this question, create a character variable `ans` and assign it one of the 5 letters that corresponds to the answer you think it is correct. For example, if you think `(e)` is correct, then type \n",
    "\n",
    "`ans = \"e\"`\n",
    "\n"
   ]
  },
  {
   "cell_type": "code",
   "execution_count": 29,
   "metadata": {
    "deletable": false,
    "nbgrader": {
     "cell_type": "code",
     "checksum": "967bd5f2f7e6a6f27b70c75ce35f6619",
     "grade": false,
     "grade_id": "cell-b9e83e3a741bba22",
     "locked": false,
     "schema_version": 3,
     "solution": true,
     "task": false
    }
   },
   "outputs": [],
   "source": [
    "ans = \"c\""
   ]
  },
  {
   "cell_type": "code",
   "execution_count": 30,
   "metadata": {
    "deletable": false,
    "editable": false,
    "nbgrader": {
     "cell_type": "code",
     "checksum": "03bd960220ae2419352340cbd4c4c83f",
     "grade": true,
     "grade_id": "cell-521080698be262e3",
     "locked": true,
     "points": 1,
     "schema_version": 3,
     "solution": false,
     "task": false
    }
   },
   "outputs": [
    {
     "name": "stdout",
     "output_type": "stream",
     "text": [
      "\u001b[32mTest passed\u001b[39m 🌈\n"
     ]
    }
   ],
   "source": [
    "# check whether `ans` is one of the characters {\"a\",\"b\",\"c\",\"d\"}\n",
    "\n",
    "if (test_that(desc=\"\",code={\n",
    "    expect_equal(ans %in% c(\"a\",\"b\",\"c\",\"d\"), TRUE)\n",
    "}) != TRUE) stop(\"Sorry, ans is not one of the letters a-d\")"
   ]
  },
  {
   "cell_type": "code",
   "execution_count": 31,
   "metadata": {
    "deletable": false,
    "editable": false,
    "nbgrader": {
     "cell_type": "code",
     "checksum": "914ab5d22e3c5e0606daefaef00ecf43",
     "grade": true,
     "grade_id": "cell-2a03fac136ffff19",
     "locked": true,
     "points": 2,
     "schema_version": 3,
     "solution": false,
     "task": false
    }
   },
   "outputs": [],
   "source": [
    "# check whether your answer is correct (hidden test)\n"
   ]
  },
  {
   "cell_type": "markdown",
   "metadata": {
    "deletable": false,
    "editable": false,
    "nbgrader": {
     "cell_type": "markdown",
     "checksum": "44166c116a71a510e06b93213a1eba0d",
     "grade": false,
     "grade_id": "cell-q4",
     "locked": true,
     "schema_version": 3,
     "solution": false,
     "task": false
    }
   },
   "source": [
    "### Question 6\n",
    "\n",
    "Let `x` be a numeric vector and suppose you want to know how many entries of `x` are strictly less than 5. Create\n",
    "a new variable `y` which is equal to the number of entries of `x` that are (strictly) less than 5. For example, if\n",
    "\n",
    "`x = c(-5, 7, 0, 3, 14, 9, 5, 10, 2, -2, 0, 12)`\n",
    "\n",
    "then your variable `y` should be equal to 6. Your code for `y` **must** be expressed in terms of `x` so that for different vectors `x` the same expression for `y` will always give the correct answer. To do that, we create a function `counts()` with input argument `x`. Within this function you need to create your variable `y`in terms of `x`, so that this function returns the right answer for any numeric vector `x`.\n",
    "\n",
    "Also, within the `counts()` function, create another variable `z` which is equal to the number of entries of `x` that are strictly between -5 and 5. Like `y`, the variable `z` **must** be expressed in terms of `x` so that the same expression for `z` works for various vectors `x`. The autograder will test your answer for several vectors `x`.\n",
    "\n",
    "You should have only two lines of code, one for `y`, one for `z`. \n",
    "Also, there is no partial credit! (This is true for each question). If one of the vectors `y` or `z` is wrong but the other one correct, you still get 0 pts."
   ]
  },
  {
   "cell_type": "code",
   "execution_count": 32,
   "metadata": {
    "deletable": false,
    "nbgrader": {
     "cell_type": "code",
     "checksum": "3c4238bb04e800d1471936c8f4da8805",
     "grade": false,
     "grade_id": "cell-cafbf9f8ce74436e",
     "locked": false,
     "schema_version": 3,
     "solution": true,
     "task": false
    }
   },
   "outputs": [],
   "source": [
    "counts = function(x){  # do NOT change this line of the code!\n",
    "\n",
    "y = sum(x<5)\n",
    "z = sum(x>-5 & x<5)\n",
    "\n",
    "return(list(y,z))} # do NOT change this line of the code!"
   ]
  },
  {
   "cell_type": "code",
   "execution_count": 33,
   "metadata": {
    "deletable": false,
    "editable": false,
    "nbgrader": {
     "cell_type": "code",
     "checksum": "81ecd8750e304b78d71e5642e2f9cf52",
     "grade": true,
     "grade_id": "cell-74cf0ccb8ccf479f",
     "locked": true,
     "points": 1,
     "schema_version": 3,
     "solution": false,
     "task": false
    }
   },
   "outputs": [
    {
     "name": "stdout",
     "output_type": "stream",
     "text": [
      "\u001b[32mTest passed\u001b[39m 🌈\n",
      "\u001b[32mTest passed\u001b[39m 😀\n"
     ]
    }
   ],
   "source": [
    "# Check whether function `counts()` exists \n",
    "# and whether counts(x) returns a list of length 2 (for the input x = -3:6)\n",
    "\n",
    "x = -3:6\n",
    "\n",
    "if (test_that(desc=\"\", code={\n",
    "    expect_equal(is.function(counts), TRUE)\n",
    "}) != TRUE) stop(\"Sorry, function `counts` was not created correctly\")\n",
    "\n",
    "if (test_that(desc=\"\", code={\n",
    "    expect_equal(length(counts(x)), 2)\n",
    "}) != TRUE) stop(\"Sorry, length of returned list is not 2\")\n"
   ]
  },
  {
   "cell_type": "code",
   "execution_count": 34,
   "metadata": {
    "deletable": false,
    "editable": false,
    "nbgrader": {
     "cell_type": "code",
     "checksum": "780c2b970de9f94dc8f2099befe88908",
     "grade": true,
     "grade_id": "cell-3cdfc22ad4fa41cb",
     "locked": true,
     "points": 1,
     "schema_version": 3,
     "solution": false,
     "task": false
    }
   },
   "outputs": [
    {
     "name": "stdout",
     "output_type": "stream",
     "text": [
      "\u001b[32mTest passed\u001b[39m 🎊\n",
      "\u001b[32mTest passed\u001b[39m 🌈\n",
      "\u001b[32mTest passed\u001b[39m 🥇\n"
     ]
    }
   ],
   "source": [
    "# check whether your answer is correct for \n",
    "# (x =) x1 = c(-5, 7, 0, 3, 14, 9, 5, 10, 2, -2, 0, 12) and (x =) x2 = c(-2, 4, 0, 10, 2, -2, 0, 12)\n",
    "\n",
    "x1 = c(-5, 7, 0, 3, 14, 9, 5, 10, 2, -2, 0, 12)\n",
    "x2 = c(-7, -20, 10, 2, 12)\n",
    "\n",
    "\n",
    "if (test_that(desc=\"\", code={\n",
    "    expect_equal(length(counts(x1)), 2)\n",
    "    expect_equal(length(counts(x2)), 2)\n",
    "}) != TRUE) stop(\"Sorry, length of returned list is not 2\")\n",
    "\n",
    "if (test_that(desc=\"\", code={\n",
    "    expect_equal(counts(x1)[[1]], 6)\n",
    "    expect_equal(counts(x2)[[1]], 3)\n",
    "}) != TRUE) stop(\"Sorry, 1st component of the list is wrong\")\n",
    "\n",
    "if (test_that(desc=\"\", code={\n",
    "    expect_equal(counts(x1)[[2]], 5)\n",
    "    expect_equal(counts(x2)[[2]], 1)\n",
    "}) != TRUE) stop(\"Sorry, 2nd component of the list is wrong\")\n"
   ]
  },
  {
   "cell_type": "code",
   "execution_count": 35,
   "metadata": {
    "deletable": false,
    "editable": false,
    "nbgrader": {
     "cell_type": "code",
     "checksum": "4fd693bc71ddbb66f222004c04957f22",
     "grade": true,
     "grade_id": "cell-732b11cbcb29109f",
     "locked": true,
     "points": 2,
     "schema_version": 3,
     "solution": false,
     "task": false
    }
   },
   "outputs": [],
   "source": [
    "# check whether your answer is correct for several different vectors x (hidden test)\n"
   ]
  },
  {
   "cell_type": "markdown",
   "metadata": {
    "deletable": false,
    "editable": false,
    "nbgrader": {
     "cell_type": "markdown",
     "checksum": "8a5322f154958ab38e8fc6bab6ab5499",
     "grade": false,
     "grade_id": "cell-aa49525ed6c6cc61",
     "locked": true,
     "schema_version": 3,
     "solution": false,
     "task": false
    }
   },
   "source": [
    "### Question 7\n",
    "\n",
    "Let `x` be a numeric vector and suppose you want to extract all the entries of `x` that are strictly less than 5, but not equal to -1, 0, or 1.\n",
    "\n",
    "Create a new vector `y` which consists of all entries of `x` strictly less than 5 but not including -1, 0, or 1, *in order of appearance as in vector `x`*. For example, if\n",
    "\n",
    "`x = c(-4, -1, 5, 2, 2, 1, 3, 0, -9)`\n",
    "\n",
    "then, printing `y` should read \n",
    "\n",
    "`y` <br>\n",
    "`[1] -4, 2, 2, 3, -9`\n",
    "\n",
    "To do this, we create a function `extract()`, within which you need to type `y` in terms of `x`, so that for various vectors `x` the output `extract(x)` always gives the entries of `x` that satisfy the conditions above."
   ]
  },
  {
   "cell_type": "code",
   "execution_count": 36,
   "metadata": {
    "deletable": false,
    "nbgrader": {
     "cell_type": "code",
     "checksum": "c8601d3ec4320e64ae62db8fb8a540d5",
     "grade": false,
     "grade_id": "cell-e882f1190e4c77d4",
     "locked": false,
     "schema_version": 3,
     "solution": true,
     "task": false
    }
   },
   "outputs": [],
   "source": [
    "extract = function(x){  # do NOT change this line of the code!\n",
    "\n",
    "y = x[x<5 & x!=-1 & x!=0 & x!=1]\n",
    "\n",
    "return(y)} # do NOT change this line of the code!"
   ]
  },
  {
   "cell_type": "code",
   "execution_count": 37,
   "metadata": {
    "deletable": false,
    "editable": false,
    "nbgrader": {
     "cell_type": "code",
     "checksum": "8f1b256c0c58f67115ff3c7261ca0109",
     "grade": true,
     "grade_id": "cell-754dfe1d720a58bc",
     "locked": true,
     "points": 3,
     "schema_version": 3,
     "solution": false,
     "task": false
    }
   },
   "outputs": [],
   "source": [
    "# check whether your answer is correct (hidden test)\n"
   ]
  },
  {
   "cell_type": "markdown",
   "metadata": {
    "deletable": false,
    "editable": false,
    "nbgrader": {
     "cell_type": "markdown",
     "checksum": "3bfa8beae2d99c1f01a365340b8ff240",
     "grade": false,
     "grade_id": "cell-q6",
     "locked": true,
     "schema_version": 3,
     "solution": false,
     "task": false
    }
   },
   "source": [
    "### Question 8\n",
    "\n",
    "Let `x` be a character vector and suppose you want to know the positions/indices of all the entries of `x` that\n",
    "have value `magenta`. Create a new vector `y` which gives you all such indices. For example, if\n",
    "\n",
    "`x = c(\"blue\", \"magenta\", \"yellow\", \"green\", \"cyan\", \"magenta\", \"black\", \"red\")`\n",
    "\n",
    "then, printing `y` should read\n",
    "\n",
    "`y` <br>\n",
    "`[1] 2 6`\n",
    "\n",
    "For this problem, you need to create the vector `y` within the function `wheremagenta()`."
   ]
  },
  {
   "cell_type": "code",
   "execution_count": 38,
   "metadata": {
    "deletable": false,
    "nbgrader": {
     "cell_type": "code",
     "checksum": "362067eb52420c1a9f2b77ac86d96ac2",
     "grade": false,
     "grade_id": "cell-aa6",
     "locked": false,
     "schema_version": 3,
     "solution": true,
     "task": false
    }
   },
   "outputs": [],
   "source": [
    "wheremagenta = function(x){  # do NOT change this line of the code!\n",
    "    \n",
    "y = which(x %in% \"magenta\")    \n",
    "\n",
    "return(y)} # do NOT change this line of the code!"
   ]
  },
  {
   "cell_type": "code",
   "execution_count": 39,
   "metadata": {
    "deletable": false,
    "editable": false,
    "nbgrader": {
     "cell_type": "code",
     "checksum": "4564bfd6e47074d8cdb04d430ac12a74",
     "grade": true,
     "grade_id": "cell-d4e36d4cf2b2d396",
     "locked": true,
     "points": 1,
     "schema_version": 3,
     "solution": false,
     "task": false
    }
   },
   "outputs": [
    {
     "name": "stdout",
     "output_type": "stream",
     "text": [
      "\u001b[32mTest passed\u001b[39m 😀\n"
     ]
    }
   ],
   "source": [
    "# check whether your answer is correct for input x = c(\"blue\", \"magenta\", \"yellow\", \"green\", \"cyan\", \"magenta\", \"black\", \"red\")\n",
    "\n",
    "x = c(\"blue\", \"magenta\", \"yellow\", \"green\", \"cyan\", \"magenta\", \"black\", \"red\")\n",
    "\n",
    "if (test_that(desc=\"\", code={\n",
    "    expect_equal(wheremagenta(x), c(2,6))\n",
    "}) != TRUE) stop(\"Sorry, wrong answer\")"
   ]
  },
  {
   "cell_type": "code",
   "execution_count": 40,
   "metadata": {
    "deletable": false,
    "editable": false,
    "nbgrader": {
     "cell_type": "code",
     "checksum": "6d140ec3b5af03e0885a1aff2c4224eb",
     "grade": true,
     "grade_id": "cell-at6",
     "locked": true,
     "points": 2,
     "schema_version": 3,
     "solution": false,
     "task": false
    }
   },
   "outputs": [],
   "source": [
    "# check whether your answer is correct for several different vectors (hidden test)\n"
   ]
  },
  {
   "cell_type": "markdown",
   "metadata": {
    "deletable": false,
    "editable": false,
    "nbgrader": {
     "cell_type": "markdown",
     "checksum": "56a42bbc1cf8ed7845d8d8d88c4caa83",
     "grade": false,
     "grade_id": "cell-7ddf39abdc0cfbf5",
     "locked": true,
     "schema_version": 3,
     "solution": false,
     "task": false
    }
   },
   "source": [
    "### Question 9\n",
    "\n",
    "Let `x` be a character vector and suppose you want to change all appearances of `magenta` to `purple`. Create a new vector `y` (within the function `replacemagenta()`) which is identical to `x` except with `magenta` replaced by `purple`. For example, if\n",
    "\n",
    "`x = c(\"blue\", \"magenta\", \"yellow\", \"green\", \"cyan\", \"magenta\", \"black\", \"red\")`\n",
    "\n",
    "then `y` should read\n",
    "\n",
    "`y` <br>\n",
    "`[1] \"blue\" \"purple\" \"yellow\" \"green\" \"cyan\" \"purple\" \"black\" \"red\"`"
   ]
  },
  {
   "cell_type": "code",
   "execution_count": 41,
   "metadata": {
    "deletable": false,
    "nbgrader": {
     "cell_type": "code",
     "checksum": "26f6f7129b11b6a765f15192d2b757b1",
     "grade": false,
     "grade_id": "cell-26395de09a7b9471",
     "locked": false,
     "schema_version": 3,
     "solution": true,
     "task": false
    }
   },
   "outputs": [],
   "source": [
    "replacemagenta = function(x){  # do NOT change this line of the code!\n",
    "\n",
    "y = replace(x,which(x %in% \"magenta\"),\"purple\")\n",
    "\n",
    "return(y)} # do NOT change this line of the code!"
   ]
  },
  {
   "cell_type": "code",
   "execution_count": 42,
   "metadata": {
    "deletable": false,
    "editable": false,
    "nbgrader": {
     "cell_type": "code",
     "checksum": "c2415c0f617b44be69282ce70d4fdecb",
     "grade": true,
     "grade_id": "cell-950627912248bab6",
     "locked": true,
     "points": 1,
     "schema_version": 3,
     "solution": false,
     "task": false
    }
   },
   "outputs": [
    {
     "name": "stdout",
     "output_type": "stream",
     "text": [
      "\u001b[32mTest passed\u001b[39m 😸\n"
     ]
    }
   ],
   "source": [
    "# check whether your code is correct for \n",
    "# x1 = c(\"red\", magenta\", \"blue\", \"magenta\") \n",
    "# and x2 = c(\"blue\", \"magenta\", \"yellow\", \"green\", \"cyan\", \"magenta\", \"black\", \"red\")\n",
    "\n",
    "x1 = c(\"red\", \"magenta\", \"blue\", \"magenta\") \n",
    "x2 = c(\"blue\", \"magenta\", \"yellow\", \"green\", \"cyan\", \"magenta\", \"black\", \"red\")\n",
    "\n",
    "if (test_that(desc=\"\", code={\n",
    "    expect_equal(replacemagenta(x1), c(\"red\", \"purple\", \"blue\", \"purple\"))\n",
    "    expect_equal(replacemagenta(x2),  c(\"blue\", \"purple\", \"yellow\", \"green\", \"cyan\", \"purple\", \"black\", \"red\"))\n",
    "}) != TRUE) stop(\"Sorry, wrong answer\")"
   ]
  },
  {
   "cell_type": "code",
   "execution_count": 43,
   "metadata": {
    "deletable": false,
    "editable": false,
    "nbgrader": {
     "cell_type": "code",
     "checksum": "a1b474d8322f9a4d06e567398f89dffc",
     "grade": true,
     "grade_id": "cell-88bb037620b466ae",
     "locked": true,
     "points": 2,
     "schema_version": 3,
     "solution": false,
     "task": false
    }
   },
   "outputs": [],
   "source": [
    "# check whether your answer is correct for several other cases (hidden test)\n"
   ]
  },
  {
   "cell_type": "markdown",
   "metadata": {
    "deletable": false,
    "editable": false,
    "nbgrader": {
     "cell_type": "markdown",
     "checksum": "f99ee5512481b3d1276a19e4f44949fe",
     "grade": false,
     "grade_id": "cell-bd7c1338a2533c97",
     "locked": true,
     "schema_version": 3,
     "solution": false,
     "task": false
    }
   },
   "source": [
    "### Question 10\n",
    "\n",
    "Create a dataframe named `df` that has exactly two columns, named `x` and `y`, where `x` is the vector `1 2 3` and `y` is the vector `4 5 6`.  You should only need one line of code:\n",
    "\n",
    "`df = ???`\n",
    "\n",
    "Note `df` should have dimensions $3 \\times 2$, and you need to be exact with your column names and values."
   ]
  },
  {
   "cell_type": "code",
   "execution_count": 44,
   "metadata": {
    "deletable": false,
    "nbgrader": {
     "cell_type": "code",
     "checksum": "87ac93c2cfb6ab1a4715ae313fc6fd6a",
     "grade": false,
     "grade_id": "cell-75a15e86d45d79da",
     "locked": false,
     "schema_version": 3,
     "solution": true,
     "task": false
    }
   },
   "outputs": [],
   "source": [
    "df = data.frame(x=c(1,2,3),y=c(4,5,6))"
   ]
  },
  {
   "cell_type": "code",
   "execution_count": 45,
   "metadata": {
    "deletable": false,
    "editable": false,
    "nbgrader": {
     "cell_type": "code",
     "checksum": "91bb5f73077265b1527b9e98a144e846",
     "grade": true,
     "grade_id": "cell-4f6b4c1124a43e30",
     "locked": true,
     "points": 1,
     "schema_version": 3,
     "solution": false,
     "task": false
    }
   },
   "outputs": [
    {
     "name": "stdout",
     "output_type": "stream",
     "text": [
      "\u001b[32mTest passed\u001b[39m 🎊\n",
      "\u001b[32mTest passed\u001b[39m 🎉\n"
     ]
    }
   ],
   "source": [
    "#Check whether df is a dataframe with the correct dimensions\n",
    "#Is it a dataframe?\n",
    "if (test_that(desc=\"\", code={\n",
    "    expect_equal(is.data.frame(df), TRUE)\n",
    "}) != TRUE) stop(\"df is not a dataframe\")\n",
    "\n",
    "#Does it have the right dimensions?\n",
    "if (test_that(desc=\"\", code={\n",
    "    expect_equal(all(dim(df) == c(3,2)), TRUE)\n",
    "}) != TRUE) stop(\"df does not have the correct dimensions\")"
   ]
  },
  {
   "cell_type": "code",
   "execution_count": 46,
   "metadata": {
    "deletable": false,
    "editable": false,
    "nbgrader": {
     "cell_type": "code",
     "checksum": "d81ac3e1bfaa6725d380c1ce27df97ab",
     "grade": true,
     "grade_id": "cell-f74ffc96dca06f31",
     "locked": true,
     "points": 2,
     "schema_version": 3,
     "solution": false,
     "task": false
    }
   },
   "outputs": [],
   "source": [
    "# check whether the answer is correct (hidden test)\n"
   ]
  },
  {
   "cell_type": "markdown",
   "metadata": {
    "deletable": false,
    "editable": false,
    "nbgrader": {
     "cell_type": "markdown",
     "checksum": "c95e297e8c400cb4bcdf9acb5e753a30",
     "grade": false,
     "grade_id": "cell-07e47891abf31da9",
     "locked": true,
     "schema_version": 3,
     "solution": false,
     "task": false
    }
   },
   "source": [
    "### For problems 11-14, read in the data from the built-in dataset airquality and look at the docummentation. To do that, you can just run the following cell to load the data and to see the documentation.  To run the cell, select the cell and press `Ctrl + Enter`.\n",
    "\n",
    "Also, for easier writing, we create a data frame `air` in the following cell, which is equal to `airquality`. Use the data frame `air` in the following questions. This is mandatory, as the autograder will base its test on the `air` data frame."
   ]
  },
  {
   "cell_type": "code",
   "execution_count": 47,
   "metadata": {
    "deletable": false,
    "editable": false,
    "nbgrader": {
     "cell_type": "code",
     "checksum": "0235a087067249b34f06c798e49a49e6",
     "grade": false,
     "grade_id": "cell-fe3ea3c2ea001004",
     "locked": true,
     "schema_version": 3,
     "solution": false,
     "task": false
    }
   },
   "outputs": [
    {
     "data": {
      "text/html": [
       "<table class=\"dataframe\">\n",
       "<caption>A data.frame: 6 × 6</caption>\n",
       "<thead>\n",
       "\t<tr><th></th><th scope=col>Ozone</th><th scope=col>Solar.R</th><th scope=col>Wind</th><th scope=col>Temp</th><th scope=col>Month</th><th scope=col>Day</th></tr>\n",
       "\t<tr><th></th><th scope=col>&lt;int&gt;</th><th scope=col>&lt;int&gt;</th><th scope=col>&lt;dbl&gt;</th><th scope=col>&lt;int&gt;</th><th scope=col>&lt;int&gt;</th><th scope=col>&lt;int&gt;</th></tr>\n",
       "</thead>\n",
       "<tbody>\n",
       "\t<tr><th scope=row>1</th><td>41</td><td>190</td><td> 7.4</td><td>67</td><td>5</td><td>1</td></tr>\n",
       "\t<tr><th scope=row>2</th><td>36</td><td>118</td><td> 8.0</td><td>72</td><td>5</td><td>2</td></tr>\n",
       "\t<tr><th scope=row>3</th><td>12</td><td>149</td><td>12.6</td><td>74</td><td>5</td><td>3</td></tr>\n",
       "\t<tr><th scope=row>4</th><td>18</td><td>313</td><td>11.5</td><td>62</td><td>5</td><td>4</td></tr>\n",
       "\t<tr><th scope=row>5</th><td>NA</td><td> NA</td><td>14.3</td><td>56</td><td>5</td><td>5</td></tr>\n",
       "\t<tr><th scope=row>6</th><td>28</td><td> NA</td><td>14.9</td><td>66</td><td>5</td><td>6</td></tr>\n",
       "</tbody>\n",
       "</table>\n"
      ],
      "text/latex": [
       "A data.frame: 6 × 6\n",
       "\\begin{tabular}{r|llllll}\n",
       "  & Ozone & Solar.R & Wind & Temp & Month & Day\\\\\n",
       "  & <int> & <int> & <dbl> & <int> & <int> & <int>\\\\\n",
       "\\hline\n",
       "\t1 & 41 & 190 &  7.4 & 67 & 5 & 1\\\\\n",
       "\t2 & 36 & 118 &  8.0 & 72 & 5 & 2\\\\\n",
       "\t3 & 12 & 149 & 12.6 & 74 & 5 & 3\\\\\n",
       "\t4 & 18 & 313 & 11.5 & 62 & 5 & 4\\\\\n",
       "\t5 & NA &  NA & 14.3 & 56 & 5 & 5\\\\\n",
       "\t6 & 28 &  NA & 14.9 & 66 & 5 & 6\\\\\n",
       "\\end{tabular}\n"
      ],
      "text/markdown": [
       "\n",
       "A data.frame: 6 × 6\n",
       "\n",
       "| <!--/--> | Ozone &lt;int&gt; | Solar.R &lt;int&gt; | Wind &lt;dbl&gt; | Temp &lt;int&gt; | Month &lt;int&gt; | Day &lt;int&gt; |\n",
       "|---|---|---|---|---|---|---|\n",
       "| 1 | 41 | 190 |  7.4 | 67 | 5 | 1 |\n",
       "| 2 | 36 | 118 |  8.0 | 72 | 5 | 2 |\n",
       "| 3 | 12 | 149 | 12.6 | 74 | 5 | 3 |\n",
       "| 4 | 18 | 313 | 11.5 | 62 | 5 | 4 |\n",
       "| 5 | NA |  NA | 14.3 | 56 | 5 | 5 |\n",
       "| 6 | 28 |  NA | 14.9 | 66 | 5 | 6 |\n",
       "\n"
      ],
      "text/plain": [
       "  Ozone Solar.R Wind Temp Month Day\n",
       "1 41    190      7.4 67   5     1  \n",
       "2 36    118      8.0 72   5     2  \n",
       "3 12    149     12.6 74   5     3  \n",
       "4 18    313     11.5 62   5     4  \n",
       "5 NA     NA     14.3 56   5     5  \n",
       "6 28     NA     14.9 66   5     6  "
      ]
     },
     "metadata": {},
     "output_type": "display_data"
    }
   ],
   "source": [
    "data(airquality)\n",
    "?airquality\n",
    "air = airquality\n",
    "head(air)"
   ]
  },
  {
   "cell_type": "markdown",
   "metadata": {
    "deletable": false,
    "editable": false,
    "nbgrader": {
     "cell_type": "markdown",
     "checksum": "f0a352e06e403cd48a82336891ff7d69",
     "grade": false,
     "grade_id": "cell-57b8c9bf9086e534",
     "locked": true,
     "schema_version": 3,
     "solution": false,
     "task": false
    }
   },
   "source": [
    "### Question 11\n",
    "\n",
    "How many observations (i.e. rows) and how many variables (i.e. columns) are there in the data frame `air`?\n",
    "Create a new vector `ans` of length 2 with these two answers as two entries of `ans`, **respectively** (i.e. the first component should be the number of rows, the second should be the number of columns). You should\n",
    "have only one line of code: \n",
    "\n",
    "`ans = ???`\n"
   ]
  },
  {
   "cell_type": "code",
   "execution_count": 48,
   "metadata": {
    "deletable": false,
    "nbgrader": {
     "cell_type": "code",
     "checksum": "cc4f2a104a27a2e7b8b578f3877df086",
     "grade": false,
     "grade_id": "cell-a3921b0645bea6c1",
     "locked": false,
     "schema_version": 3,
     "solution": true,
     "task": false
    }
   },
   "outputs": [],
   "source": [
    "ans = dim(air)"
   ]
  },
  {
   "cell_type": "code",
   "execution_count": 49,
   "metadata": {
    "deletable": false,
    "editable": false,
    "nbgrader": {
     "cell_type": "code",
     "checksum": "bc4b700efde2b3116c6d13946453fd30",
     "grade": true,
     "grade_id": "cell-46ac1da4d0388500",
     "locked": true,
     "points": 1,
     "schema_version": 3,
     "solution": false,
     "task": false
    }
   },
   "outputs": [
    {
     "name": "stdout",
     "output_type": "stream",
     "text": [
      "\u001b[32mTest passed\u001b[39m 😀\n",
      "\u001b[32mTest passed\u001b[39m 🎉\n",
      "\u001b[32mTest passed\u001b[39m 😀\n"
     ]
    }
   ],
   "source": [
    "# check whether `ans` is an integer vector and of length 2 (with first component greater than the second)\n",
    "\n",
    "if (test_that(desc=\"\", code={\n",
    "    expect_equal(is.integer(ans), TRUE)\n",
    "}) != TRUE) stop(\"sorry, ans is not of integer type\")\n",
    "\n",
    "if (test_that(desc=\"\", code={\n",
    "    expect_equal(length(ans), 2)\n",
    "}) != TRUE) stop(\"Sorry, ans is not of length 2\")\n",
    "\n",
    "if (test_that(desc=\"\", code={\n",
    "    expect_equal(ans[1] > ans[2], TRUE)\n",
    "}) != TRUE) stop(\"Sorry, in this data frame there should be more rows than columns\")"
   ]
  },
  {
   "cell_type": "code",
   "execution_count": 50,
   "metadata": {
    "deletable": false,
    "editable": false,
    "nbgrader": {
     "cell_type": "code",
     "checksum": "2002645208c8835d3b3d21a3fd441eea",
     "grade": true,
     "grade_id": "cell-cd0adb7dde39fd75",
     "locked": true,
     "points": 2,
     "schema_version": 3,
     "solution": false,
     "task": false
    }
   },
   "outputs": [],
   "source": [
    "# test whether your answer is correct (hidden test)\n"
   ]
  },
  {
   "cell_type": "markdown",
   "metadata": {
    "deletable": false,
    "editable": false,
    "nbgrader": {
     "cell_type": "markdown",
     "checksum": "83094e552976bfb24f7af7548fc2a435",
     "grade": false,
     "grade_id": "cell-b804f800612800ba",
     "locked": true,
     "schema_version": 3,
     "solution": false,
     "task": false
    }
   },
   "source": [
    "### Question 12\n",
    "\n",
    "What are the lowest and the highest temperatures in the data frame air? Give your answer as a vector `ans`\n",
    "of length 2, with first component being the smallest and the second component being the largest temperature.\n",
    "You should have only one line of code:\n",
    "\n",
    "`ans = ???`\n"
   ]
  },
  {
   "cell_type": "code",
   "execution_count": 51,
   "metadata": {
    "deletable": false,
    "nbgrader": {
     "cell_type": "code",
     "checksum": "7e90d5b558779fe851983106dcc8ead7",
     "grade": false,
     "grade_id": "cell-2fa676769ca03670",
     "locked": false,
     "schema_version": 3,
     "solution": true,
     "task": false
    }
   },
   "outputs": [],
   "source": [
    "ans = c(min(air$Temp),max(air$Temp))"
   ]
  },
  {
   "cell_type": "code",
   "execution_count": 52,
   "metadata": {
    "deletable": false,
    "editable": false,
    "nbgrader": {
     "cell_type": "code",
     "checksum": "cfc6a281f431cc34780977ced8387223",
     "grade": true,
     "grade_id": "cell-5a015022b1f3e57a",
     "locked": true,
     "points": 1,
     "schema_version": 3,
     "solution": false,
     "task": false
    }
   },
   "outputs": [
    {
     "name": "stdout",
     "output_type": "stream",
     "text": [
      "\u001b[32mTest passed\u001b[39m 🎉\n"
     ]
    }
   ],
   "source": [
    "# check whether ans is a numeric vector of length 2 and whether 1st entry is smaller than the 2nd\n",
    "\n",
    "if (test_that(desc=\"\", code={\n",
    "    expect_equal(is.numeric(ans),TRUE)\n",
    "    expect_equal(length(ans), 2)\n",
    "    expect_equal(ans[1]<ans[2], TRUE)\n",
    "}) != TRUE) stop(\"Sorry, wrong answer\")"
   ]
  },
  {
   "cell_type": "code",
   "execution_count": 53,
   "metadata": {
    "deletable": false,
    "editable": false,
    "nbgrader": {
     "cell_type": "code",
     "checksum": "ff56ed885803f41171822f15f28f97ca",
     "grade": true,
     "grade_id": "cell-58fc78f3e096aa61",
     "locked": true,
     "points": 2,
     "schema_version": 3,
     "solution": false,
     "task": false
    }
   },
   "outputs": [],
   "source": [
    "# check whether the answer is correct (hidden test)\n"
   ]
  },
  {
   "cell_type": "markdown",
   "metadata": {
    "deletable": false,
    "editable": false,
    "nbgrader": {
     "cell_type": "markdown",
     "checksum": "0e99405e636890fc6bc7d84170c91bb4",
     "grade": false,
     "grade_id": "cell-527d3cb66b130ec4",
     "locked": true,
     "schema_version": 3,
     "solution": false,
     "task": false
    }
   },
   "source": [
    "### Question 13\n",
    "\n",
    "How many non-NA and how many NA values are there in the table? Create a new variable `ans` of class\n",
    "`table` that gives the total number of non-NA and NA entries. The first component should be number of non-NA's, the second should be number of NA's. (You should have just one line of a code)."
   ]
  },
  {
   "cell_type": "code",
   "execution_count": 54,
   "metadata": {
    "deletable": false,
    "nbgrader": {
     "cell_type": "code",
     "checksum": "b1deb902f16cd32f1088d68df83c07d5",
     "grade": false,
     "grade_id": "cell-ca53ce0d066034ad",
     "locked": false,
     "schema_version": 3,
     "solution": true,
     "task": false
    }
   },
   "outputs": [],
   "source": [
    "ans = table(is.na(air))"
   ]
  },
  {
   "cell_type": "code",
   "execution_count": 55,
   "metadata": {
    "deletable": false,
    "editable": false,
    "nbgrader": {
     "cell_type": "code",
     "checksum": "efafd859c31a7e71a8fb86267998ae23",
     "grade": true,
     "grade_id": "cell-17da21b8c443c652",
     "locked": true,
     "points": 1,
     "schema_version": 3,
     "solution": false,
     "task": false
    }
   },
   "outputs": [
    {
     "name": "stdout",
     "output_type": "stream",
     "text": [
      "\u001b[32mTest passed\u001b[39m 😀\n",
      "\u001b[32mTest passed\u001b[39m 🎉\n"
     ]
    }
   ],
   "source": [
    "# check whether ans is of table type and whether number of non-NA's (the first component) is greater than number of NA's\n",
    "\n",
    "if (test_that(desc=\"\", code={\n",
    "    expect_equal(is.table(ans), TRUE)\n",
    "}) != TRUE) stop(\"Sorry, ans is not of table type\")\n",
    "\n",
    "if (test_that(desc=\"\", code={\n",
    "    expect_equal(ans[[1]] > ans[[2]], TRUE)\n",
    "}) != TRUE) stop(\"Sorry, in this table 1st component should be larger than the 2nd\")"
   ]
  },
  {
   "cell_type": "code",
   "execution_count": 56,
   "metadata": {
    "deletable": false,
    "editable": false,
    "nbgrader": {
     "cell_type": "code",
     "checksum": "46892ff847a9aa1cb01e9e89affcd3ff",
     "grade": true,
     "grade_id": "cell-3c90acb538febd74",
     "locked": true,
     "points": 2,
     "schema_version": 3,
     "solution": false,
     "task": false
    }
   },
   "outputs": [],
   "source": [
    "# check whether the answer is correct (hidden test)\n"
   ]
  },
  {
   "cell_type": "markdown",
   "metadata": {
    "deletable": false,
    "editable": false,
    "nbgrader": {
     "cell_type": "markdown",
     "checksum": "63a17d793148b96c482511bfbe960b46",
     "grade": false,
     "grade_id": "cell-ef908199da5ae00b",
     "locked": true,
     "schema_version": 3,
     "solution": false,
     "task": false
    }
   },
   "source": [
    "### Question 14\n",
    "\n",
    "Create a new data frame `new_df` which extracts only Ozone and Wind observations from air data, but\n",
    "only those which were recorded in September (Month = 9). Your code should have only one line:\n",
    "\n",
    "`new_df = ???`\n",
    "\n",
    "Hint: your data frame should be of dimension 30 x 2."
   ]
  },
  {
   "cell_type": "code",
   "execution_count": 57,
   "metadata": {
    "deletable": false,
    "nbgrader": {
     "cell_type": "code",
     "checksum": "a347a68c2d0022045a3fd69d49c9e873",
     "grade": false,
     "grade_id": "cell-2056bcbf41825035",
     "locked": false,
     "schema_version": 3,
     "solution": true,
     "task": false
    }
   },
   "outputs": [],
   "source": [
    "new_df = air[air$Month==9,c(1,3)]"
   ]
  },
  {
   "cell_type": "code",
   "execution_count": 58,
   "metadata": {
    "deletable": false,
    "editable": false,
    "nbgrader": {
     "cell_type": "code",
     "checksum": "a259d44232839ed6fc59d698a476556f",
     "grade": true,
     "grade_id": "cell-edbdd01b3e2c8f30",
     "locked": true,
     "points": 1,
     "schema_version": 3,
     "solution": false,
     "task": false
    }
   },
   "outputs": [
    {
     "name": "stdout",
     "output_type": "stream",
     "text": [
      "\u001b[32mTest passed\u001b[39m 🌈\n",
      "\u001b[32mTest passed\u001b[39m 🌈\n"
     ]
    }
   ],
   "source": [
    "#Check whether df is a dataframe with the correct dimensions\n",
    "#Is it a dataframe?\n",
    "if (test_that(desc=\"\", code={\n",
    "    expect_equal(is.data.frame(new_df), TRUE)\n",
    "}) != TRUE) stop(\"Sorry, new_df is not a data frame\")\n",
    "\n",
    "#Does it have the right dimensions?\n",
    "if (test_that(desc=\"\", code={\n",
    "    expect_equal(all(dim(new_df) == c(30,2)), TRUE)\n",
    "}) != TRUE) stop(\"Sorry, wrong dimensions\")"
   ]
  },
  {
   "cell_type": "code",
   "execution_count": 59,
   "metadata": {
    "deletable": false,
    "editable": false,
    "nbgrader": {
     "cell_type": "code",
     "checksum": "d8792c5b68842c2e29cce5a62d7f8c13",
     "grade": true,
     "grade_id": "cell-f6648f66ec6abb50",
     "locked": true,
     "points": 2,
     "schema_version": 3,
     "solution": false,
     "task": false
    }
   },
   "outputs": [],
   "source": [
    "# check whether the answer is correct (hidden test)\n"
   ]
  },
  {
   "cell_type": "markdown",
   "metadata": {
    "deletable": false,
    "editable": false,
    "nbgrader": {
     "cell_type": "markdown",
     "checksum": "b2cb66dc13b1732473071ab507d2bcc1",
     "grade": false,
     "grade_id": "cell-2d318930cc51714e",
     "locked": true,
     "schema_version": 3,
     "solution": false,
     "task": false
    }
   },
   "source": [
    "### For problems 15 and 16, read in the data from the built-in dataset mtcars and look at the docummentation. To do that, you can just run the following cell to load the data and to see the documentation.  To run the cell, select the cell and press `Ctrl + Enter`."
   ]
  },
  {
   "cell_type": "code",
   "execution_count": 66,
   "metadata": {
    "deletable": false,
    "editable": false,
    "nbgrader": {
     "cell_type": "code",
     "checksum": "fa012f84c9e63ae645bdd57428e040cd",
     "grade": false,
     "grade_id": "cell-31eb47c40393a78f",
     "locked": true,
     "schema_version": 3,
     "solution": false,
     "task": false
    }
   },
   "outputs": [
    {
     "data": {
      "text/html": [
       "<table class=\"dataframe\">\n",
       "<caption>A data.frame: 6 × 11</caption>\n",
       "<thead>\n",
       "\t<tr><th></th><th scope=col>mpg</th><th scope=col>cyl</th><th scope=col>disp</th><th scope=col>hp</th><th scope=col>drat</th><th scope=col>wt</th><th scope=col>qsec</th><th scope=col>vs</th><th scope=col>am</th><th scope=col>gear</th><th scope=col>carb</th></tr>\n",
       "\t<tr><th></th><th scope=col>&lt;dbl&gt;</th><th scope=col>&lt;dbl&gt;</th><th scope=col>&lt;dbl&gt;</th><th scope=col>&lt;dbl&gt;</th><th scope=col>&lt;dbl&gt;</th><th scope=col>&lt;dbl&gt;</th><th scope=col>&lt;dbl&gt;</th><th scope=col>&lt;dbl&gt;</th><th scope=col>&lt;dbl&gt;</th><th scope=col>&lt;dbl&gt;</th><th scope=col>&lt;dbl&gt;</th></tr>\n",
       "</thead>\n",
       "<tbody>\n",
       "\t<tr><th scope=row>Mazda RX4</th><td>21.0</td><td>6</td><td>160</td><td>110</td><td>3.90</td><td>2.620</td><td>16.46</td><td>0</td><td>1</td><td>4</td><td>4</td></tr>\n",
       "\t<tr><th scope=row>Mazda RX4 Wag</th><td>21.0</td><td>6</td><td>160</td><td>110</td><td>3.90</td><td>2.875</td><td>17.02</td><td>0</td><td>1</td><td>4</td><td>4</td></tr>\n",
       "\t<tr><th scope=row>Datsun 710</th><td>22.8</td><td>4</td><td>108</td><td> 93</td><td>3.85</td><td>2.320</td><td>18.61</td><td>1</td><td>1</td><td>4</td><td>1</td></tr>\n",
       "\t<tr><th scope=row>Hornet 4 Drive</th><td>21.4</td><td>6</td><td>258</td><td>110</td><td>3.08</td><td>3.215</td><td>19.44</td><td>1</td><td>0</td><td>3</td><td>1</td></tr>\n",
       "\t<tr><th scope=row>Hornet Sportabout</th><td>18.7</td><td>8</td><td>360</td><td>175</td><td>3.15</td><td>3.440</td><td>17.02</td><td>0</td><td>0</td><td>3</td><td>2</td></tr>\n",
       "\t<tr><th scope=row>Valiant</th><td>18.1</td><td>6</td><td>225</td><td>105</td><td>2.76</td><td>3.460</td><td>20.22</td><td>1</td><td>0</td><td>3</td><td>1</td></tr>\n",
       "</tbody>\n",
       "</table>\n"
      ],
      "text/latex": [
       "A data.frame: 6 × 11\n",
       "\\begin{tabular}{r|lllllllllll}\n",
       "  & mpg & cyl & disp & hp & drat & wt & qsec & vs & am & gear & carb\\\\\n",
       "  & <dbl> & <dbl> & <dbl> & <dbl> & <dbl> & <dbl> & <dbl> & <dbl> & <dbl> & <dbl> & <dbl>\\\\\n",
       "\\hline\n",
       "\tMazda RX4 & 21.0 & 6 & 160 & 110 & 3.90 & 2.620 & 16.46 & 0 & 1 & 4 & 4\\\\\n",
       "\tMazda RX4 Wag & 21.0 & 6 & 160 & 110 & 3.90 & 2.875 & 17.02 & 0 & 1 & 4 & 4\\\\\n",
       "\tDatsun 710 & 22.8 & 4 & 108 &  93 & 3.85 & 2.320 & 18.61 & 1 & 1 & 4 & 1\\\\\n",
       "\tHornet 4 Drive & 21.4 & 6 & 258 & 110 & 3.08 & 3.215 & 19.44 & 1 & 0 & 3 & 1\\\\\n",
       "\tHornet Sportabout & 18.7 & 8 & 360 & 175 & 3.15 & 3.440 & 17.02 & 0 & 0 & 3 & 2\\\\\n",
       "\tValiant & 18.1 & 6 & 225 & 105 & 2.76 & 3.460 & 20.22 & 1 & 0 & 3 & 1\\\\\n",
       "\\end{tabular}\n"
      ],
      "text/markdown": [
       "\n",
       "A data.frame: 6 × 11\n",
       "\n",
       "| <!--/--> | mpg &lt;dbl&gt; | cyl &lt;dbl&gt; | disp &lt;dbl&gt; | hp &lt;dbl&gt; | drat &lt;dbl&gt; | wt &lt;dbl&gt; | qsec &lt;dbl&gt; | vs &lt;dbl&gt; | am &lt;dbl&gt; | gear &lt;dbl&gt; | carb &lt;dbl&gt; |\n",
       "|---|---|---|---|---|---|---|---|---|---|---|---|\n",
       "| Mazda RX4 | 21.0 | 6 | 160 | 110 | 3.90 | 2.620 | 16.46 | 0 | 1 | 4 | 4 |\n",
       "| Mazda RX4 Wag | 21.0 | 6 | 160 | 110 | 3.90 | 2.875 | 17.02 | 0 | 1 | 4 | 4 |\n",
       "| Datsun 710 | 22.8 | 4 | 108 |  93 | 3.85 | 2.320 | 18.61 | 1 | 1 | 4 | 1 |\n",
       "| Hornet 4 Drive | 21.4 | 6 | 258 | 110 | 3.08 | 3.215 | 19.44 | 1 | 0 | 3 | 1 |\n",
       "| Hornet Sportabout | 18.7 | 8 | 360 | 175 | 3.15 | 3.440 | 17.02 | 0 | 0 | 3 | 2 |\n",
       "| Valiant | 18.1 | 6 | 225 | 105 | 2.76 | 3.460 | 20.22 | 1 | 0 | 3 | 1 |\n",
       "\n"
      ],
      "text/plain": [
       "                  mpg  cyl disp hp  drat wt    qsec  vs am gear carb\n",
       "Mazda RX4         21.0 6   160  110 3.90 2.620 16.46 0  1  4    4   \n",
       "Mazda RX4 Wag     21.0 6   160  110 3.90 2.875 17.02 0  1  4    4   \n",
       "Datsun 710        22.8 4   108   93 3.85 2.320 18.61 1  1  4    1   \n",
       "Hornet 4 Drive    21.4 6   258  110 3.08 3.215 19.44 1  0  3    1   \n",
       "Hornet Sportabout 18.7 8   360  175 3.15 3.440 17.02 0  0  3    2   \n",
       "Valiant           18.1 6   225  105 2.76 3.460 20.22 1  0  3    1   "
      ]
     },
     "metadata": {},
     "output_type": "display_data"
    }
   ],
   "source": [
    "data(mtcars)\n",
    "?mtcars\n",
    "head(mtcars)"
   ]
  },
  {
   "cell_type": "markdown",
   "metadata": {},
   "source": [
    "### Question 15\n",
    "\n",
    "Create a new data frame `new_df` which extracts only the `mpg`, `disp`, `hp`, and `cyl` observations from the `mtcars` dataset, and only for those cars with either 6 or 8 cylinders (`cyl`). Your code need have only one line (though you can have more, as long as `new_df` is created correctly):\n",
    "\n",
    "`new_df = ???`\n",
    "\n",
    "Your data frame should be of dimension $21 \\times 4$. You also must preserve the relative row and column order in your new dataframe."
   ]
  },
  {
   "cell_type": "code",
   "execution_count": 67,
   "metadata": {
    "deletable": false,
    "nbgrader": {
     "cell_type": "code",
     "checksum": "22d737b9e0fb173b9d9bf44cee8d283f",
     "grade": false,
     "grade_id": "cell-6bb5617cee630b5e",
     "locked": false,
     "schema_version": 3,
     "solution": true,
     "task": false
    }
   },
   "outputs": [],
   "source": [
    "new_df = mtcars[mtcars$cyl==6 | mtcars$cyl==8,c(1:4)]"
   ]
  },
  {
   "cell_type": "code",
   "execution_count": 68,
   "metadata": {
    "deletable": false,
    "editable": false,
    "nbgrader": {
     "cell_type": "code",
     "checksum": "d484ced9d6346c851da923c16b2b8c67",
     "grade": true,
     "grade_id": "cell-fb8d3e27b084288a",
     "locked": true,
     "points": 1,
     "schema_version": 3,
     "solution": false,
     "task": false
    }
   },
   "outputs": [
    {
     "name": "stdout",
     "output_type": "stream",
     "text": [
      "\u001b[32mTest passed\u001b[39m 😀\n",
      "\u001b[32mTest passed\u001b[39m 😀\n"
     ]
    }
   ],
   "source": [
    "# check whether new_df is a data frame and of dimenxion 21 x 2\n",
    "\n",
    "if (test_that(desc=\"\", code={\n",
    "    expect_equal(is.data.frame(new_df), TRUE)\n",
    "}) != TRUE) stop(\"Sorry, new_df is not a data frame\")\n",
    "\n",
    "if (test_that(desc=\"\", code={\n",
    "    expect_equal(dim(new_df), c(21,4))\n",
    "}) != TRUE) stop(\"Sorry, wrong dimensions\")"
   ]
  },
  {
   "cell_type": "code",
   "execution_count": 69,
   "metadata": {
    "deletable": false,
    "editable": false,
    "nbgrader": {
     "cell_type": "code",
     "checksum": "8b0e031e3732db54ffa2079204bd2a14",
     "grade": true,
     "grade_id": "cell-d8508589533644b9",
     "locked": true,
     "points": 2,
     "schema_version": 3,
     "solution": false,
     "task": false
    }
   },
   "outputs": [],
   "source": [
    "# check whether the answer is correct (hidden test)\n"
   ]
  },
  {
   "cell_type": "markdown",
   "metadata": {
    "deletable": false,
    "editable": false,
    "nbgrader": {
     "cell_type": "markdown",
     "checksum": "24445e729cfa8452de5d541d51b8674c",
     "grade": false,
     "grade_id": "cell-38212f23cdf72aa3",
     "locked": true,
     "schema_version": 3,
     "solution": false,
     "task": false
    }
   },
   "source": [
    "### Question 16\n",
    "\n",
    "Create a vector `x` that gives the the mean `mpg` values for vehicles with 4, 6, and 8 cylinders, respectively.\n",
    "Also, create a vector `y` that gives the mean `hp` values for vehicles with 3, 4, or 5 gears, respectively\n",
    "\n",
    "You will need at least two lines of code:\n",
    "\n",
    "`x = c(...)\n",
    "y = c(...)`\n",
    "\n",
    "Hint: You should get a mean mpg of 26.66 for 4-cylinder vehicles. The rest is up to you."
   ]
  },
  {
   "cell_type": "code",
   "execution_count": 70,
   "metadata": {
    "deletable": false,
    "nbgrader": {
     "cell_type": "code",
     "checksum": "00a8dbaef519146e4c10eb31ad24e466",
     "grade": false,
     "grade_id": "cell-362c9c624f689ce8",
     "locked": false,
     "schema_version": 3,
     "solution": true,
     "task": false
    }
   },
   "outputs": [
    {
     "ename": "ERROR",
     "evalue": "Error in parse(text = x, srcfile = src): <text>:2:1: unexpected symbol\n1: x = c(mean(mpg[cyl == 4]),mean(mpg[cyl == 6]),mean(mpg[cyl == 8])\n2: y\n   ^\n",
     "output_type": "error",
     "traceback": [
      "Error in parse(text = x, srcfile = src): <text>:2:1: unexpected symbol\n1: x = c(mean(mpg[cyl == 4]),mean(mpg[cyl == 6]),mean(mpg[cyl == 8])\n2: y\n   ^\nTraceback:\n"
     ]
    }
   ],
   "source": [
    "x = c(mean(mpg[cyl == 4]),mean(mpg[cyl == 6]),mean(mpg[cyl == 8])\n",
    "y = c(mean(hp[gear == 3]),mean(hp[gear == 4]),mean(hp[gear == 5])"
   ]
  },
  {
   "cell_type": "code",
   "execution_count": 71,
   "metadata": {
    "deletable": false,
    "editable": false,
    "nbgrader": {
     "cell_type": "code",
     "checksum": "3487afeb2bb37582b1e7f9f6d8bb34d2",
     "grade": true,
     "grade_id": "cell-227842470071d81c",
     "locked": true,
     "points": 2,
     "schema_version": 3,
     "solution": false,
     "task": false
    }
   },
   "outputs": [],
   "source": [
    "# check whether x is correct (hidden test)\n"
   ]
  },
  {
   "cell_type": "code",
   "execution_count": 72,
   "metadata": {
    "deletable": false,
    "editable": false,
    "nbgrader": {
     "cell_type": "code",
     "checksum": "adab7f25f1b1c77beffa15a3619e4b06",
     "grade": true,
     "grade_id": "cell-9783152bdf642b76",
     "locked": true,
     "points": 2,
     "schema_version": 3,
     "solution": false,
     "task": false
    }
   },
   "outputs": [],
   "source": [
    "# check whether y is correct (hidden test)\n"
   ]
  },
  {
   "cell_type": "code",
   "execution_count": null,
   "metadata": {},
   "outputs": [],
   "source": []
  }
 ],
 "metadata": {
  "kernelspec": {
   "display_name": "R",
   "language": "R",
   "name": "ir"
  },
  "language_info": {
   "codemirror_mode": "r",
   "file_extension": ".r",
   "mimetype": "text/x-r-source",
   "name": "R",
   "pygments_lexer": "r",
   "version": "3.6.3"
  }
 },
 "nbformat": 4,
 "nbformat_minor": 2
}
