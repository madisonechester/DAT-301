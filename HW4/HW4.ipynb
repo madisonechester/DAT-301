{
 "cells": [
  {
   "cell_type": "markdown",
   "id": "75dd16c6",
   "metadata": {},
   "source": [
    "Before you turn this problem in, make sure everything runs as expected. First, **restart the kernel** (in the menubar, select Kernel$\\rightarrow$Restart) and then **run all cells** (in the menubar, select Cell$\\rightarrow$Run All).\n",
    "\n",
    "Make sure you fill in any place that says `YOUR CODE HERE` or \"YOUR ANSWER HERE\", as well as your name and collaborators below:"
   ]
  },
  {
   "cell_type": "code",
   "execution_count": 1,
   "id": "23a23edc",
   "metadata": {},
   "outputs": [],
   "source": [
    "NAME = \"Madison Chester\"\n",
    "COLLABORATORS = \"\""
   ]
  },
  {
   "cell_type": "markdown",
   "id": "329e280c",
   "metadata": {},
   "source": [
    "---"
   ]
  },
  {
   "cell_type": "code",
   "execution_count": 2,
   "id": "c4c6668b",
   "metadata": {
    "deletable": false,
    "editable": false,
    "nbgrader": {
     "cell_type": "code",
     "checksum": "be5c4e2ced078a831e6ad50f87643fff",
     "grade": false,
     "grade_id": "cell-b5cff27dabae6ff1",
     "locked": true,
     "schema_version": 3,
     "solution": false,
     "task": false
    }
   },
   "outputs": [],
   "source": [
    "#Needed libraries, run this cell first!\n",
    "import numpy as np\n",
    "import matplotlib.pyplot as plt\n",
    "import pandas as pd\n",
    "import seaborn as sns\n",
    "\n",
    "import types\n",
    "from nose.tools import assert_equal, assert_raises\n",
    "import warnings"
   ]
  },
  {
   "cell_type": "markdown",
   "id": "66fd68fa",
   "metadata": {
    "deletable": false,
    "editable": false,
    "nbgrader": {
     "cell_type": "markdown",
     "checksum": "b9bf28f24f78b3c768fc5f4dba36e1d5",
     "grade": false,
     "grade_id": "cell-3b8d310c424547f9",
     "locked": true,
     "schema_version": 3,
     "solution": false,
     "task": false
    }
   },
   "source": [
    "### Question 1\n",
    "\n",
    "Create the following lists in Python, assigning them to the variables given:\n",
    "\n",
    "- `list1`: A list of every integer from 1 through 10,000 (inclusive)\n",
    "- `list2`: A list of every integer form 1 through 10,000, *but* as *strings*. That is, your list should begin:\n",
    "```\n",
    "['1', '2', '3', '4', ...\n",
    "```\n",
    "\n",
    "- `list3`: A list of every integer from 1 through 10,000 that is evenly divisible by 7 but not 2\n",
    "- `list4`: The pattern `1, 100, 1000` repeated 300 times, for a total of 900 elements in the list\n",
    "\n",
    "You may find **list comprehension** useful for at least some of these."
   ]
  },
  {
   "cell_type": "code",
   "execution_count": 3,
   "id": "11c00a99",
   "metadata": {
    "deletable": false,
    "nbgrader": {
     "cell_type": "code",
     "checksum": "a471f255815b0a7b3369c1fe1b09e8e0",
     "grade": false,
     "grade_id": "cell-1520632b5fd4650b",
     "locked": false,
     "schema_version": 3,
     "solution": true,
     "task": false
    }
   },
   "outputs": [],
   "source": [
    "list1 = list(range(1,10001))\n",
    "list2 = [str(x) for x in list1]\n",
    "list3 = []\n",
    "for x in list1:\n",
    "    if (x % 7 == 0) and (x % 2 != 0):\n",
    "        list3.append(x)\n",
    "helper = [1,100,1000]\n",
    "list4 = helper * 300\n",
    "\n",
    "# your code here\n",
    "#raise NotImplementedError"
   ]
  },
  {
   "cell_type": "code",
   "execution_count": 4,
   "id": "7a3b5ee9",
   "metadata": {
    "deletable": false,
    "editable": false,
    "nbgrader": {
     "cell_type": "code",
     "checksum": "4af7fa8b57527e90524ef51d544904f9",
     "grade": true,
     "grade_id": "cell-426c6f890a86038b",
     "locked": true,
     "points": 1,
     "schema_version": 3,
     "solution": false,
     "task": false
    }
   },
   "outputs": [],
   "source": [
    "\"\"\"Check whether the lists exist and are of the appropriate length\"\"\"\n",
    "\n",
    "assert type(list1) == list and len(list1) == 10000, \"Sorry, list1 must be a list of 10,000 elements\"\n",
    "assert type(list2) == list and len(list2) == 10000, \"Sorry, list2 must be a list of 10,000 elements\"\n",
    "assert type(list3) == list and len(list3) == 714, \"Sorry, list3 must be a list of 714 elements\"\n",
    "assert type(list4) == list and len(list4) == 900, \"Sorry, list4 must be a list of 900 elements\"\n"
   ]
  },
  {
   "cell_type": "code",
   "execution_count": 5,
   "id": "01e7af60",
   "metadata": {
    "deletable": false,
    "editable": false,
    "nbgrader": {
     "cell_type": "code",
     "checksum": "9aaf085dba6821bd9b94d91a2fc25ccc",
     "grade": true,
     "grade_id": "cell-76a01f53f62e49e2",
     "locked": true,
     "points": 1,
     "schema_version": 3,
     "solution": false,
     "task": false
    }
   },
   "outputs": [
    {
     "data": {
      "text/plain": [
       "'Check whether list1 is correct (hidden test)'"
      ]
     },
     "execution_count": 5,
     "metadata": {},
     "output_type": "execute_result"
    }
   ],
   "source": [
    "\"\"\"Check whether list1 is correct (hidden test)\"\"\"\n"
   ]
  },
  {
   "cell_type": "code",
   "execution_count": 6,
   "id": "ce36257f",
   "metadata": {
    "deletable": false,
    "editable": false,
    "nbgrader": {
     "cell_type": "code",
     "checksum": "2dd8c898e7bdac7c7bf329cd6b1e572f",
     "grade": true,
     "grade_id": "cell-8dceb5df760dc816",
     "locked": true,
     "points": 1,
     "schema_version": 3,
     "solution": false,
     "task": false
    }
   },
   "outputs": [
    {
     "data": {
      "text/plain": [
       "'Check whether list2 is correct (hidden test)'"
      ]
     },
     "execution_count": 6,
     "metadata": {},
     "output_type": "execute_result"
    }
   ],
   "source": [
    "\"\"\"Check whether list2 is correct (hidden test)\"\"\"\n"
   ]
  },
  {
   "cell_type": "code",
   "execution_count": 7,
   "id": "2d3b4bb5",
   "metadata": {
    "deletable": false,
    "editable": false,
    "nbgrader": {
     "cell_type": "code",
     "checksum": "352f8b59219f1ebb75b7b0518823154d",
     "grade": true,
     "grade_id": "cell-485f97ab7b28b551",
     "locked": true,
     "points": 1,
     "schema_version": 3,
     "solution": false,
     "task": false
    }
   },
   "outputs": [
    {
     "data": {
      "text/plain": [
       "'Check whether list3 is correct (hidden test)'"
      ]
     },
     "execution_count": 7,
     "metadata": {},
     "output_type": "execute_result"
    }
   ],
   "source": [
    "\"\"\"Check whether list3 is correct (hidden test)\"\"\"\n"
   ]
  },
  {
   "cell_type": "code",
   "execution_count": 8,
   "id": "af96a6ae",
   "metadata": {
    "deletable": false,
    "editable": false,
    "nbgrader": {
     "cell_type": "code",
     "checksum": "3280785739483b7d99749d411059aa72",
     "grade": true,
     "grade_id": "cell-6d693abd9b5637ab",
     "locked": true,
     "points": 1,
     "schema_version": 3,
     "solution": false,
     "task": false
    }
   },
   "outputs": [
    {
     "data": {
      "text/plain": [
       "'Check whether list4 is correct (hidden test)'"
      ]
     },
     "execution_count": 8,
     "metadata": {},
     "output_type": "execute_result"
    }
   ],
   "source": [
    "\"\"\"Check whether list4 is correct (hidden test)\"\"\"\n"
   ]
  },
  {
   "cell_type": "markdown",
   "id": "32c52561",
   "metadata": {
    "deletable": false,
    "editable": false,
    "nbgrader": {
     "cell_type": "markdown",
     "checksum": "9e7a281e9a5436d11b4230c3f5c44167",
     "grade": false,
     "grade_id": "cell-1eaef41e3a337f96",
     "locked": true,
     "schema_version": 3,
     "solution": false,
     "task": false
    }
   },
   "source": [
    "### Question 2\n",
    "\n",
    "Write a function, `letter_index()`, which takes two arguments:\n",
    "\n",
    "1. `x` = any string\n",
    "2. `y` = any single-character string\n",
    "\n",
    "The function should return a **list** of all the indices in the string `x` that are equal to the character `y`, regardless of case (i.e. *case-insensitive*)."
   ]
  },
  {
   "cell_type": "code",
   "execution_count": 9,
   "id": "2bad8918",
   "metadata": {
    "deletable": false,
    "nbgrader": {
     "cell_type": "code",
     "checksum": "cef874f8a2f2a834b35596ded1e155aa",
     "grade": false,
     "grade_id": "cell-80799687a71a4eb5",
     "locked": false,
     "schema_version": 3,
     "solution": true,
     "task": false
    }
   },
   "outputs": [],
   "source": [
    "def letter_index(x,y):\n",
    "    x = x.lower()\n",
    "    y = y.lower()\n",
    "    answer = []\n",
    "    for i in range(len(x)):\n",
    "        if (x[i] == y):\n",
    "            answer.append(i)\n",
    "    return answer\n",
    "\n",
    "# your code here\n",
    "#raise NotImplementedError"
   ]
  },
  {
   "cell_type": "code",
   "execution_count": 10,
   "id": "54a6f915",
   "metadata": {
    "deletable": false,
    "editable": false,
    "nbgrader": {
     "cell_type": "code",
     "checksum": "f4a99637d702b779c4a336f6d4268a48",
     "grade": true,
     "grade_id": "cell-7d2732811e2a5112",
     "locked": true,
     "points": 1,
     "schema_version": 3,
     "solution": false,
     "task": false
    }
   },
   "outputs": [],
   "source": [
    "\"\"\"Check whether the function works on some test cases\"\"\"\n",
    "\n",
    "test1 = letter_index(\"A coward dies a thousand times before his death, but the valiant taste of death but once.\", 't')\n",
    "test2 = letter_index(\"When you gaze long into the abyss, the abyss gazes also into you.\", 'O')\n",
    "\n",
    "assert test1 == [16, 25, 45, 51, 53, 63, 65, 68, 77, 82], \"Sorry, wrong output\"\n",
    "assert test2 == [6, 15, 22, 54, 59, 62], \"Sorry, wrong output\""
   ]
  },
  {
   "cell_type": "code",
   "execution_count": 11,
   "id": "6f96ebc2",
   "metadata": {
    "deletable": false,
    "editable": false,
    "nbgrader": {
     "cell_type": "code",
     "checksum": "f964d3574e74d6350c0801765a17b0b0",
     "grade": true,
     "grade_id": "cell-2b4d79361cde8731",
     "locked": true,
     "points": 3,
     "schema_version": 3,
     "solution": false,
     "task": false
    }
   },
   "outputs": [
    {
     "data": {
      "text/plain": [
       "'Check whether the function works (hidden test)'"
      ]
     },
     "execution_count": 11,
     "metadata": {},
     "output_type": "execute_result"
    }
   ],
   "source": [
    "\"\"\"Check whether the function works (hidden test)\"\"\"\n"
   ]
  },
  {
   "cell_type": "markdown",
   "id": "cb8a23d6",
   "metadata": {
    "deletable": false,
    "editable": false,
    "nbgrader": {
     "cell_type": "markdown",
     "checksum": "29520133c0192ccee88f2f128914b8f9",
     "grade": false,
     "grade_id": "cell-a87ce46bf25c24eb",
     "locked": true,
     "schema_version": 3,
     "solution": false,
     "task": false
    }
   },
   "source": [
    "### Question 3\n",
    "\n",
    "Define a function named `unique_under_n()` that takes two arguments:\n",
    "\n",
    "- `x` = A numeric list\n",
    "- `n` = some numeric value (float or int)\n",
    "\n",
    "This function should return a **list** that contains all the *unique* values in the passed list, `x`, that are (strictly) less than `n`, and should be *sorted from lowest to highest*.  So for example, you should get the following:\n",
    "\n",
    "```\n",
    "unique_under_n([5, 6, 1, 1, 1, 6, 8, 10, 11], 7)\n",
    "[1, 5, 6]\n",
    "```\n",
    "\n",
    "If no values in `x` are less than `n`, the function should return an empty list"
   ]
  },
  {
   "cell_type": "code",
   "execution_count": null,
   "id": "426e8d42",
   "metadata": {},
   "outputs": [],
   "source": []
  },
  {
   "cell_type": "code",
   "execution_count": 12,
   "id": "23c58165",
   "metadata": {
    "deletable": false,
    "nbgrader": {
     "cell_type": "code",
     "checksum": "1204a56250f7908e9f6dae8eba9467fa",
     "grade": false,
     "grade_id": "cell-e4ecc35d167291b5",
     "locked": false,
     "schema_version": 3,
     "solution": true,
     "task": false
    }
   },
   "outputs": [],
   "source": [
    "def unique_under_n(x,n):\n",
    "    answer = []\n",
    "    for i in x:\n",
    "        if (i < n):\n",
    "            answer.append(i)\n",
    "    final_answer = list(set(answer))\n",
    "    final_answer.sort()\n",
    "    return final_answer\n",
    "\n",
    "# your code here\n",
    "#raise NotImplementedError"
   ]
  },
  {
   "cell_type": "code",
   "execution_count": 13,
   "id": "b15e94e7",
   "metadata": {
    "deletable": false,
    "editable": false,
    "nbgrader": {
     "cell_type": "code",
     "checksum": "fbd710a1f505cc32a9df048f6337b622",
     "grade": true,
     "grade_id": "cell-efdcaec4b40d0e8e",
     "locked": true,
     "points": 1,
     "schema_version": 3,
     "solution": false,
     "task": false
    }
   },
   "outputs": [],
   "source": [
    "\"\"\"Check whether the function works on some test cases\"\"\"\n",
    "\n",
    "a = unique_under_n([8,4,1,4,5,6,8]*3, 6)\n",
    "b = unique_under_n([1,2,3,-10,-11,-11], 0)\n",
    "\n",
    "assert a == [1, 4, 5], \"Sorry, wrong output\"\n",
    "assert b == [-11, -10], \"Sorry, wrong output\""
   ]
  },
  {
   "cell_type": "code",
   "execution_count": 14,
   "id": "67f51d18",
   "metadata": {
    "deletable": false,
    "editable": false,
    "nbgrader": {
     "cell_type": "code",
     "checksum": "cadf2313ed0661870937bc563ce9cda7",
     "grade": true,
     "grade_id": "cell-a08a4ff14cd23970",
     "locked": true,
     "points": 3,
     "schema_version": 3,
     "solution": false,
     "task": false
    }
   },
   "outputs": [
    {
     "data": {
      "text/plain": [
       "'Check whether the function works (hidden test)'"
      ]
     },
     "execution_count": 14,
     "metadata": {},
     "output_type": "execute_result"
    }
   ],
   "source": [
    "\"\"\"Check whether the function works (hidden test)\"\"\"\n"
   ]
  },
  {
   "cell_type": "markdown",
   "id": "dc3880c9",
   "metadata": {
    "deletable": false,
    "editable": false,
    "nbgrader": {
     "cell_type": "markdown",
     "checksum": "1f077b0e9fd8c25791580ac0a6bdf4b5",
     "grade": false,
     "grade_id": "cell-bef99aff0c192d05",
     "locked": true,
     "schema_version": 3,
     "solution": false,
     "task": false
    }
   },
   "source": [
    "### Question 4\n",
    "\n",
    "Create a function `conv_temp`, which converts temperature from one of the\n",
    "units Fahrenheit, Celsius and Kelvin, to another from this list. Your function should have 3 input parameters:\n",
    "\n",
    "- `x` - which can be either a number (int or float), or an array of numbers (such as a list, tuple, or ndarray)\n",
    "- `fro` - which is a character parameter, having possible values “C” (default), “F”, or “K” (**Note**: `from` is a reserved word in Python, so we use `fro` for our input parameter)\n",
    "- `to` - which is a character parameter, having possible values “F” (default), “C”, or “K”\n",
    "\n",
    "Use the following relations between different units, with $F$ in Fahrenheits, $C$ in Celsius and $K$ in Kelvin:\n",
    "\n",
    "\\begin{align} \n",
    "F &= {9\\over 5} \\cdot C + 32  \\newline \n",
    "K &= C + 273.15\n",
    "\\end{align}\n",
    "\n",
    "- If `x` is a single number, then your function should return a single number (int or float). If `x` is an array, your function should return a **list**.\n",
    "\n",
    "- Your function should also round the result of conversion to the nearest **two decimal places**\n",
    "\n",
    "If `fro` and `to` happen to be the same units (i.e. the same character variables from the set {\"C\", \"F\" \"K\"}),\n",
    "then your function should return a list with the same values as passed, but should first print the following warning. Import the module `warnings` and use the following command for printing the warning message (do not change this command, not even a single character!)<br>\n",
    "\n",
    "`warnings.warn(\"Your 'fro' parameter is the same as your 'to' parameter!\")` <br> \n",
    "\n",
    "Here are some examples with various inputs and what your function should return. Keep in mind the output\n",
    "list should be the same length as the input array. Also, if you don’t specify the values of `fro` or `to`,\n",
    "the default values should be used."
   ]
  },
  {
   "cell_type": "code",
   "execution_count": 15,
   "id": "84447b70",
   "metadata": {
    "deletable": false,
    "nbgrader": {
     "cell_type": "code",
     "checksum": "f528d84a1e1d1f792cad4f98ed0a8607",
     "grade": false,
     "grade_id": "cell-0136c05e20319f07",
     "locked": false,
     "schema_version": 3,
     "solution": true,
     "task": false
    }
   },
   "outputs": [],
   "source": [
    "import warnings\n",
    "def conv_temp(x, fro = \"C\", to = \"F\"):\n",
    "    if (np.isscalar(x)):\n",
    "        if (fro == \"C\" and to == \"F\"):\n",
    "            return round(((x*9/5)+32), 2)\n",
    "        elif (fro == \"C\" and to == \"K\"):\n",
    "            return round((x+273.15), 2)\n",
    "        elif (fro == \"F\" and to == \"C\"):\n",
    "            return round(((x-32)*5/9), 2)\n",
    "        elif (fro == \"F\" and to == \"K\"):\n",
    "            return round((((x-32)*5/9)+273.15), 2)\n",
    "        elif (fro == \"K\" and to == \"C\"):\n",
    "            return round((x-273.15), 2)\n",
    "        elif (fro == \"K\" and to == \"F\"):\n",
    "            return round((((x-273.15)*9/5)+32), 2)\n",
    "        elif ((fro==\"C\" and to==\"C\") or (fro==\"F\" and to==\"F\") or (fro==\"K\" and to==\"K\")):\n",
    "            warnings.warn(\"Your 'fro' parameter is the same as your 'to' parameter!\")\n",
    "            return(x)\n",
    "    else: \n",
    "        if (fro == \"C\" and to == \"F\"):\n",
    "            x = list((((i*9/5)+32) for i in x))\n",
    "        elif (fro == \"C\" and to == \"K\"):\n",
    "            x = list(((i+273.15) for i in x))\n",
    "        elif (fro == \"F\" and to == \"C\"):\n",
    "            x = list((((i-32)*5/9) for i in x))\n",
    "        elif (fro == \"F\" and to == \"K\"):\n",
    "            x = list(((((i-32)*5/9)+273.15) for i in x))\n",
    "        elif (fro == \"K\" and to == \"C\"):\n",
    "            x = list(((i-273.15) for i in x))\n",
    "        elif (fro == \"K\" and to == \"F\"):\n",
    "            x = list(((((i-273.15)*9/5)+32) for i in x))\n",
    "        elif ((fro==\"C\" and to==\"C\") or (fro==\"F\" and to==\"F\") or (fro==\"K\" and to==\"K\")):\n",
    "            warnings.warn(\"Your 'fro' parameter is the same as your 'to' parameter!\")\n",
    "        return ([round(num, 2) for num in x])\n",
    "    \n",
    "# your code here\n",
    "#raise NotImplementedError       "
   ]
  },
  {
   "cell_type": "code",
   "execution_count": 16,
   "id": "6f625c3f",
   "metadata": {
    "deletable": false,
    "editable": false,
    "nbgrader": {
     "cell_type": "code",
     "checksum": "415aad85065e9ad046cc27d3a898c057",
     "grade": true,
     "grade_id": "cell-6d916f78a6de8269",
     "locked": true,
     "points": 1,
     "schema_version": 3,
     "solution": false,
     "task": false
    }
   },
   "outputs": [],
   "source": [
    "\"\"\"Check whether the function works on some test cases\"\"\"\n",
    "\n",
    "assert conv_temp(0) == 32\n",
    "assert conv_temp([0,10,20]) == [32, 50, 68]\n",
    "\n",
    "assert type(conv_temp([58, 104, 32], fro=\"F\", to=\"C\")) == list\n",
    "assert len(conv_temp([58, 104, 32], fro=\"F\", to=\"C\")) == len([58, 104, 32])"
   ]
  },
  {
   "cell_type": "code",
   "execution_count": 17,
   "id": "b339c477",
   "metadata": {
    "deletable": false,
    "editable": false,
    "nbgrader": {
     "cell_type": "code",
     "checksum": "466c5c4298b30a3df5611b0157f49c0d",
     "grade": true,
     "grade_id": "cell-3f7488faa78c2176",
     "locked": true,
     "points": 1,
     "schema_version": 3,
     "solution": false,
     "task": false
    }
   },
   "outputs": [],
   "source": [
    "\"\"\"Check whether the function works on some more test cases\"\"\"\n",
    "\n",
    "assert abs(conv_temp(30, to=\"K\") - 303.15) < 1e-10\n",
    "assert max(abs(np.array(conv_temp([283.15, 322], fro=\"K\")) - np.array([50, 119.93]))) < 1e-10"
   ]
  },
  {
   "cell_type": "code",
   "execution_count": 18,
   "id": "9bf5f774",
   "metadata": {
    "deletable": false,
    "editable": false,
    "nbgrader": {
     "cell_type": "code",
     "checksum": "a4a457148487cf8ac6f2e8cf6aaf182c",
     "grade": true,
     "grade_id": "cell-bd230480a98da355",
     "locked": true,
     "points": 1,
     "schema_version": 3,
     "solution": false,
     "task": false
    }
   },
   "outputs": [],
   "source": [
    "\"\"\"Check whether the function correctly prints a warning\"\"\"\n",
    "\n",
    "with warnings.catch_warnings(record=True) as w:\n",
    "    #Trigger a warning\n",
    "    conv_temp(58, to=\"K\", fro=\"K\")\n",
    "    \n",
    "    #Verify the message\n",
    "    assert str(w[-1].message) == \"Your 'fro' parameter is the same as your 'to' parameter!\""
   ]
  },
  {
   "cell_type": "code",
   "execution_count": 19,
   "id": "59171c5f",
   "metadata": {
    "deletable": false,
    "editable": false,
    "nbgrader": {
     "cell_type": "code",
     "checksum": "f3a807bd59e2d1ddcc9a5ca618bde42d",
     "grade": true,
     "grade_id": "cell-eb24004187db1f92",
     "locked": true,
     "points": 3,
     "schema_version": 3,
     "solution": false,
     "task": false
    }
   },
   "outputs": [
    {
     "data": {
      "text/plain": [
       "'Check whether the function works (hidden test)'"
      ]
     },
     "execution_count": 19,
     "metadata": {},
     "output_type": "execute_result"
    }
   ],
   "source": [
    "\"\"\"Check whether the function works (hidden test)\"\"\"\n",
    "\n"
   ]
  },
  {
   "cell_type": "markdown",
   "id": "19db2b11",
   "metadata": {
    "deletable": false,
    "editable": false,
    "nbgrader": {
     "cell_type": "markdown",
     "checksum": "3b7e8e31c4932c9d8e664070e7293a82",
     "grade": false,
     "grade_id": "cell-1b4f02d439d566ad",
     "locked": true,
     "schema_version": 3,
     "solution": false,
     "task": false
    }
   },
   "source": [
    "## Question 5\n",
    "\n",
    "Create a piece-wise function `pwfun()`, defined in the following way:\n",
    "\n",
    "$$\\text{pwfun}(x) = \\begin{cases}\n",
    "-2 x - 2 &, \\hspace{1.1cm} x<-1 \\\\\n",
    "\\hspace{.5cm} 0 &, -1\\leq x \\leq 1 \\\\\n",
    "x^2 - 1 &, \\hspace{0.3cm} 1 < x\n",
    "\\end{cases}$$\n",
    "\n",
    "Its graph is given below. <br>\n",
    "\n",
    " <img src=\"piecewise-fcn.jpg\" height=\"600\" width=\"300\"> \n",
    "\n",
    "Your python function should be able to accept both a single numeric value (float or int), and a list of numeric values. The output should be either a *single numeric value or a list*, depending on what the input is. **Round your output values to 2 decimal places.**\n",
    "\n",
    "Also, whenever the output entry is an integer (in the mathematical sense), it should be converted into an `int` value. For example, if `x = [-3.0, 5.0]`, then `pwfun(x)` should return\n",
    "\n",
    "`[4,24]`\n",
    "\n",
    "(**NOT** `[4., 24.]`, whose entries `4.` and `24.` are floats)\n",
    "\n",
    "Here are some input vectors and what you should get as a corresponding output. \n",
    "\n",
    "`pwfun(-1)` <br> \n",
    "`0`\n",
    "\n",
    "`pwfun([-2, 0.5, 3])` <br>\n",
    "`[2, 0, 8]`\n",
    "\n",
    "`x = [-3.0, -2.5, -1, 0 , 1, 2, 3.2]  ## note the output of the first two floats`  <br> \n",
    "`pwfun(x)` <br>\n",
    "`[4, 3, 0, 0, 0, 3, 9.24]`\n"
   ]
  },
  {
   "cell_type": "code",
   "execution_count": 20,
   "id": "78cfc123",
   "metadata": {
    "deletable": false,
    "nbgrader": {
     "cell_type": "code",
     "checksum": "5a7e31aacddac2865230d1ddd13cc35d",
     "grade": false,
     "grade_id": "cell-93225fa25e75ded1",
     "locked": false,
     "schema_version": 3,
     "solution": true,
     "task": false
    }
   },
   "outputs": [],
   "source": [
    "def pwfun(x):\n",
    "    if (np.isscalar(x)):\n",
    "        if (x < -1):\n",
    "            solution = round(((-2 * x) - 2), 2)\n",
    "        elif (x >= -1 and x <= 1):\n",
    "            solution = 0\n",
    "        elif (x > 1):\n",
    "            solution = round(((x**2) - 1), 2)\n",
    "        if (isinstance(solution,float) and solution.is_integer()):\n",
    "            return int(solution)\n",
    "        else:\n",
    "            return solution\n",
    "    else:\n",
    "        answer = [pwfun(xx) for xx in x]\n",
    "        return ([round(num, 2) for num in answer])\n",
    "\n",
    "# your code here\n",
    "#raise NotImplementedError"
   ]
  },
  {
   "cell_type": "code",
   "execution_count": 21,
   "id": "f8d6c719",
   "metadata": {
    "deletable": false,
    "editable": false,
    "nbgrader": {
     "cell_type": "code",
     "checksum": "7a484366fac8b980913386ba18a7b9cd",
     "grade": true,
     "grade_id": "cell-027bf2207cb52983",
     "locked": true,
     "points": 1,
     "schema_version": 3,
     "solution": false,
     "task": false
    }
   },
   "outputs": [],
   "source": [
    "\"\"\"Check whether the function works on some test cases\"\"\"\n",
    "\n",
    "assert pwfun(-3) == 4\n",
    "assert pwfun(0.56) == 0\n",
    "assert pwfun(4) == 15\n",
    "\n",
    "x = [-6.0, -0.5 , 0.2,  7] \n",
    "assert pwfun(x) == [10, 0, 0, 48]"
   ]
  },
  {
   "cell_type": "code",
   "execution_count": 22,
   "id": "6cdbe3f2",
   "metadata": {
    "deletable": false,
    "editable": false,
    "nbgrader": {
     "cell_type": "code",
     "checksum": "1f21ed3ea15cdd1c067a62f322a906e5",
     "grade": true,
     "grade_id": "cell-7e80cfa87721a1f1",
     "locked": true,
     "points": 1,
     "schema_version": 3,
     "solution": false,
     "task": false
    }
   },
   "outputs": [],
   "source": [
    "\"\"\"Check whether the entries are of appropriate type\"\"\"\n",
    "\n",
    "import numpy as np\n",
    "\n",
    "x = [-3.0, 2.3, -7/2, -2.5, -1.4] \n",
    "out = pwfun(x)  ## components with indices 1 and 4 (i.e. 2nd and the last component) \n",
    "                ## should be real, while the rest should be integers\n",
    "\n",
    "assert type(out[0]) == int  ## should be of int type\n",
    "assert type(out[1]) in [float, np.float64]  ## should be either float or numpy.float64 type\n",
    "assert type(out[2]) == int\n",
    "assert type(out[3]) == int\n",
    "assert type(out[4]) in [float, np.float64]"
   ]
  },
  {
   "cell_type": "code",
   "execution_count": 23,
   "id": "3bc7d9d1",
   "metadata": {
    "deletable": false,
    "editable": false,
    "nbgrader": {
     "cell_type": "code",
     "checksum": "5122c318154383c17df9b8858b6519bb",
     "grade": true,
     "grade_id": "cell-fac1d1cb08f1e271",
     "locked": true,
     "points": 4,
     "schema_version": 3,
     "solution": false,
     "task": false
    }
   },
   "outputs": [
    {
     "data": {
      "text/plain": [
       "'testing whether the answer is correct (hidden test)'"
      ]
     },
     "execution_count": 23,
     "metadata": {},
     "output_type": "execute_result"
    }
   ],
   "source": [
    "\"\"\"testing whether the answer is correct (hidden test)\"\"\"\n"
   ]
  },
  {
   "cell_type": "markdown",
   "id": "fb62de07",
   "metadata": {
    "deletable": false,
    "editable": false,
    "nbgrader": {
     "cell_type": "markdown",
     "checksum": "3a99b2aeb796d3e8401d27477ada62a3",
     "grade": false,
     "grade_id": "cell-2f71eb7d7aa469df",
     "locked": true,
     "schema_version": 3,
     "solution": false,
     "task": false
    }
   },
   "source": [
    "### Question 6\n",
    "\n",
    "Create a DataFrame using Pandas (imported as `pd` in the first cell of this notebook) with 4 columns named `A`, `B`, `C`, `D`, and 5 rows with index labels `one`, `two`, `three`, `four`, `five`.  Each column should have the values `1, 2, 3, 4, 5`.\n",
    "\n",
    "Assign this dataframe to the variable `df`."
   ]
  },
  {
   "cell_type": "code",
   "execution_count": 24,
   "id": "6e0cb375",
   "metadata": {
    "deletable": false,
    "nbgrader": {
     "cell_type": "code",
     "checksum": "8b0718dbd76dd24c48836f5fd01f865d",
     "grade": false,
     "grade_id": "cell-569c8a5bd7dd5648",
     "locked": false,
     "schema_version": 3,
     "solution": true,
     "task": false
    }
   },
   "outputs": [],
   "source": [
    "create = {\"A\": [1, 2, 3, 4, 5],\n",
    "          \"B\": [1, 2, 3, 4, 5],\n",
    "          \"C\": [1, 2, 3, 4, 5],\n",
    "          \"D\": [1, 2, 3, 4, 5]}\n",
    "df = pd.DataFrame(create, columns = [\"A\", \"B\", \"C\", \"D\"], index = [\"one\", \"two\", \"three\", \"four\", \"five\"])\n",
    "\n",
    "# your code here\n",
    "#raise NotImplementedError"
   ]
  },
  {
   "cell_type": "code",
   "execution_count": 25,
   "id": "309d4154",
   "metadata": {
    "deletable": false,
    "editable": false,
    "nbgrader": {
     "cell_type": "code",
     "checksum": "b4901f25e4c7cce067b39cd8753d4685",
     "grade": true,
     "grade_id": "cell-a6c51f235f2cfa9d",
     "locked": true,
     "points": 1,
     "schema_version": 3,
     "solution": false,
     "task": false
    }
   },
   "outputs": [],
   "source": [
    "\"\"\"Do some visible checks\"\"\"\n",
    "\n",
    "assert isinstance(df, pd.DataFrame), \"df is not a DataFrame\"\n",
    "assert df.shape == (5,4), \"df does not have the correct dimensions\""
   ]
  },
  {
   "cell_type": "code",
   "execution_count": 26,
   "id": "da134e79",
   "metadata": {
    "deletable": false,
    "editable": false,
    "nbgrader": {
     "cell_type": "code",
     "checksum": "e1df48857d82c8e0c8452d09a402b1a5",
     "grade": true,
     "grade_id": "cell-46fb6b1de3f89e62",
     "locked": true,
     "points": 4,
     "schema_version": 3,
     "solution": false,
     "task": false
    }
   },
   "outputs": [
    {
     "data": {
      "text/plain": [
       "'Check whether the answer is correct (hidden test)'"
      ]
     },
     "execution_count": 26,
     "metadata": {},
     "output_type": "execute_result"
    }
   ],
   "source": [
    "\"\"\"Check whether the answer is correct (hidden test)\"\"\"\n",
    "\n"
   ]
  },
  {
   "cell_type": "markdown",
   "id": "3c23f140",
   "metadata": {
    "deletable": false,
    "editable": false,
    "nbgrader": {
     "cell_type": "markdown",
     "checksum": "36237ecb6856ea3734cb8be5820c30db",
     "grade": false,
     "grade_id": "cell-65ef07a5a144fdc2",
     "locked": true,
     "schema_version": 3,
     "solution": false,
     "task": false
    }
   },
   "source": [
    "### Setup for Questions 7-11\n",
    "\n",
    "The seaborn package, which was imported in the first cell as `sns` has several built-in simple datasets that can be loaded (some are the same as those that we've seen in R).  Run `sns.get_dataset_names()` to get a list of the available datasets by name.  Run the cell below to load the \"mpg\" dataset as `df_mpg`, and to take a quick look:"
   ]
  },
  {
   "cell_type": "code",
   "execution_count": 27,
   "id": "f6019656",
   "metadata": {
    "deletable": false,
    "editable": false,
    "nbgrader": {
     "cell_type": "code",
     "checksum": "d432eae7cbdb2624d05ac96c270e15ef",
     "grade": false,
     "grade_id": "cell-8beca96f186721aa",
     "locked": true,
     "schema_version": 3,
     "solution": false,
     "task": false
    }
   },
   "outputs": [
    {
     "data": {
      "text/html": [
       "<div>\n",
       "<style scoped>\n",
       "    .dataframe tbody tr th:only-of-type {\n",
       "        vertical-align: middle;\n",
       "    }\n",
       "\n",
       "    .dataframe tbody tr th {\n",
       "        vertical-align: top;\n",
       "    }\n",
       "\n",
       "    .dataframe thead th {\n",
       "        text-align: right;\n",
       "    }\n",
       "</style>\n",
       "<table border=\"1\" class=\"dataframe\">\n",
       "  <thead>\n",
       "    <tr style=\"text-align: right;\">\n",
       "      <th></th>\n",
       "      <th>mpg</th>\n",
       "      <th>cylinders</th>\n",
       "      <th>displacement</th>\n",
       "      <th>horsepower</th>\n",
       "      <th>weight</th>\n",
       "      <th>acceleration</th>\n",
       "      <th>model_year</th>\n",
       "      <th>origin</th>\n",
       "      <th>name</th>\n",
       "    </tr>\n",
       "  </thead>\n",
       "  <tbody>\n",
       "    <tr>\n",
       "      <th>0</th>\n",
       "      <td>18.0</td>\n",
       "      <td>8</td>\n",
       "      <td>307.0</td>\n",
       "      <td>130.0</td>\n",
       "      <td>3504</td>\n",
       "      <td>12.0</td>\n",
       "      <td>70</td>\n",
       "      <td>usa</td>\n",
       "      <td>chevrolet chevelle malibu</td>\n",
       "    </tr>\n",
       "    <tr>\n",
       "      <th>1</th>\n",
       "      <td>15.0</td>\n",
       "      <td>8</td>\n",
       "      <td>350.0</td>\n",
       "      <td>165.0</td>\n",
       "      <td>3693</td>\n",
       "      <td>11.5</td>\n",
       "      <td>70</td>\n",
       "      <td>usa</td>\n",
       "      <td>buick skylark 320</td>\n",
       "    </tr>\n",
       "    <tr>\n",
       "      <th>2</th>\n",
       "      <td>18.0</td>\n",
       "      <td>8</td>\n",
       "      <td>318.0</td>\n",
       "      <td>150.0</td>\n",
       "      <td>3436</td>\n",
       "      <td>11.0</td>\n",
       "      <td>70</td>\n",
       "      <td>usa</td>\n",
       "      <td>plymouth satellite</td>\n",
       "    </tr>\n",
       "    <tr>\n",
       "      <th>3</th>\n",
       "      <td>16.0</td>\n",
       "      <td>8</td>\n",
       "      <td>304.0</td>\n",
       "      <td>150.0</td>\n",
       "      <td>3433</td>\n",
       "      <td>12.0</td>\n",
       "      <td>70</td>\n",
       "      <td>usa</td>\n",
       "      <td>amc rebel sst</td>\n",
       "    </tr>\n",
       "    <tr>\n",
       "      <th>4</th>\n",
       "      <td>17.0</td>\n",
       "      <td>8</td>\n",
       "      <td>302.0</td>\n",
       "      <td>140.0</td>\n",
       "      <td>3449</td>\n",
       "      <td>10.5</td>\n",
       "      <td>70</td>\n",
       "      <td>usa</td>\n",
       "      <td>ford torino</td>\n",
       "    </tr>\n",
       "    <tr>\n",
       "      <th>5</th>\n",
       "      <td>15.0</td>\n",
       "      <td>8</td>\n",
       "      <td>429.0</td>\n",
       "      <td>198.0</td>\n",
       "      <td>4341</td>\n",
       "      <td>10.0</td>\n",
       "      <td>70</td>\n",
       "      <td>usa</td>\n",
       "      <td>ford galaxie 500</td>\n",
       "    </tr>\n",
       "    <tr>\n",
       "      <th>6</th>\n",
       "      <td>14.0</td>\n",
       "      <td>8</td>\n",
       "      <td>454.0</td>\n",
       "      <td>220.0</td>\n",
       "      <td>4354</td>\n",
       "      <td>9.0</td>\n",
       "      <td>70</td>\n",
       "      <td>usa</td>\n",
       "      <td>chevrolet impala</td>\n",
       "    </tr>\n",
       "    <tr>\n",
       "      <th>7</th>\n",
       "      <td>14.0</td>\n",
       "      <td>8</td>\n",
       "      <td>440.0</td>\n",
       "      <td>215.0</td>\n",
       "      <td>4312</td>\n",
       "      <td>8.5</td>\n",
       "      <td>70</td>\n",
       "      <td>usa</td>\n",
       "      <td>plymouth fury iii</td>\n",
       "    </tr>\n",
       "    <tr>\n",
       "      <th>8</th>\n",
       "      <td>14.0</td>\n",
       "      <td>8</td>\n",
       "      <td>455.0</td>\n",
       "      <td>225.0</td>\n",
       "      <td>4425</td>\n",
       "      <td>10.0</td>\n",
       "      <td>70</td>\n",
       "      <td>usa</td>\n",
       "      <td>pontiac catalina</td>\n",
       "    </tr>\n",
       "    <tr>\n",
       "      <th>9</th>\n",
       "      <td>15.0</td>\n",
       "      <td>8</td>\n",
       "      <td>390.0</td>\n",
       "      <td>190.0</td>\n",
       "      <td>3850</td>\n",
       "      <td>8.5</td>\n",
       "      <td>70</td>\n",
       "      <td>usa</td>\n",
       "      <td>amc ambassador dpl</td>\n",
       "    </tr>\n",
       "  </tbody>\n",
       "</table>\n",
       "</div>"
      ],
      "text/plain": [
       "    mpg  cylinders  displacement  horsepower  weight  acceleration  \\\n",
       "0  18.0          8         307.0       130.0    3504          12.0   \n",
       "1  15.0          8         350.0       165.0    3693          11.5   \n",
       "2  18.0          8         318.0       150.0    3436          11.0   \n",
       "3  16.0          8         304.0       150.0    3433          12.0   \n",
       "4  17.0          8         302.0       140.0    3449          10.5   \n",
       "5  15.0          8         429.0       198.0    4341          10.0   \n",
       "6  14.0          8         454.0       220.0    4354           9.0   \n",
       "7  14.0          8         440.0       215.0    4312           8.5   \n",
       "8  14.0          8         455.0       225.0    4425          10.0   \n",
       "9  15.0          8         390.0       190.0    3850           8.5   \n",
       "\n",
       "   model_year origin                       name  \n",
       "0          70    usa  chevrolet chevelle malibu  \n",
       "1          70    usa          buick skylark 320  \n",
       "2          70    usa         plymouth satellite  \n",
       "3          70    usa              amc rebel sst  \n",
       "4          70    usa                ford torino  \n",
       "5          70    usa           ford galaxie 500  \n",
       "6          70    usa           chevrolet impala  \n",
       "7          70    usa          plymouth fury iii  \n",
       "8          70    usa           pontiac catalina  \n",
       "9          70    usa         amc ambassador dpl  "
      ]
     },
     "execution_count": 27,
     "metadata": {},
     "output_type": "execute_result"
    }
   ],
   "source": [
    "df_mpg = sns.load_dataset(\"mpg\")\n",
    "\n",
    "df_mpg.head(10)"
   ]
  },
  {
   "cell_type": "markdown",
   "id": "c9c958e9",
   "metadata": {
    "deletable": false,
    "editable": false,
    "nbgrader": {
     "cell_type": "markdown",
     "checksum": "2068de8b30b0f19b712e3cd9162371e3",
     "grade": false,
     "grade_id": "cell-9dd8b25923abf192",
     "locked": true,
     "schema_version": 3,
     "solution": false,
     "task": false
    }
   },
   "source": [
    "### Question 7\n",
    "\n",
    "Answer the following:\n",
    "\n",
    "1. How many vehicles in this dataset have an mpg rating *strictly* greater than 20?\n",
    "2. How many weigh *strictly* less than 3,000 lbs?\n",
    "3. How many have both an mpg rating > 20 and weigh < 3,000 lbs?\n",
    "\n",
    "Give your answer as a **list** called `ans`, where the first, second, and third elements are the answers to (1), (2), and (3) above, respectively.  So something like:\n",
    "\n",
    "```\n",
    "ans = [10, 20, 5]\n",
    "```"
   ]
  },
  {
   "cell_type": "code",
   "execution_count": 28,
   "id": "6ca851f9",
   "metadata": {
    "deletable": false,
    "nbgrader": {
     "cell_type": "code",
     "checksum": "7be2d1e0ac75fa59095fc8d2ea86b79e",
     "grade": false,
     "grade_id": "cell-7d5d309f8bb132ee",
     "locked": false,
     "schema_version": 3,
     "solution": true,
     "task": false
    }
   },
   "outputs": [],
   "source": [
    "first = len(df_mpg.loc[df_mpg.mpg > 20])\n",
    "second = len(df_mpg.loc[df_mpg.weight < 3000])\n",
    "third = len(df_mpg.loc[(df_mpg[\"mpg\"] > 20) & (df_mpg[\"weight\"] < 3000)])\n",
    "ans = [first, second, third]\n",
    "\n",
    "# your code here\n",
    "#raise NotImplementedError"
   ]
  },
  {
   "cell_type": "code",
   "execution_count": 29,
   "id": "f44b2253",
   "metadata": {
    "deletable": false,
    "editable": false,
    "nbgrader": {
     "cell_type": "code",
     "checksum": "ab546b0bdd1668e39f5b5e39f86b27a4",
     "grade": true,
     "grade_id": "cell-d02af66f0e33b77f",
     "locked": true,
     "points": 4,
     "schema_version": 3,
     "solution": false,
     "task": false
    }
   },
   "outputs": [
    {
     "data": {
      "text/plain": [
       "'Check whether the answer is correct (hidden test)'"
      ]
     },
     "execution_count": 29,
     "metadata": {},
     "output_type": "execute_result"
    }
   ],
   "source": [
    "\"\"\"Check whether the answer is correct (hidden test)\"\"\"\n",
    "\n"
   ]
  },
  {
   "cell_type": "markdown",
   "id": "8913a553",
   "metadata": {
    "deletable": false,
    "editable": false,
    "nbgrader": {
     "cell_type": "markdown",
     "checksum": "7d4ff3650e898dd9a51de922f4ef204d",
     "grade": false,
     "grade_id": "cell-f33e6d40db2f02f9",
     "locked": true,
     "schema_version": 3,
     "solution": false,
     "task": false
    }
   },
   "source": [
    "### Question 8\n",
    "\n",
    "What are the *mean* mpg values for vehicles with 3, 4, 5, 6, and 8 cylinders?\n",
    "\n",
    "Report your answer using a *DataFrame* named `df` with two columns, `cylinders` and `mpg`, where `cylinders` takes on values `3, 4, 5, 6, 8`, and `mpg` gives the corresponding mean mpg.\n",
    "\n",
    "You may find the `groupby()` method useful for this problem (though it is not strictly necessary)."
   ]
  },
  {
   "cell_type": "code",
   "execution_count": 30,
   "id": "aca02e93",
   "metadata": {
    "deletable": false,
    "nbgrader": {
     "cell_type": "code",
     "checksum": "d991fe472de25e276facc72789f97683",
     "grade": false,
     "grade_id": "cell-e0c5a7d2aa6dbd8e",
     "locked": false,
     "schema_version": 3,
     "solution": true,
     "task": false
    }
   },
   "outputs": [],
   "source": [
    "df = df_mpg\n",
    "df = df[[\"cylinders\",\"mpg\"]]\n",
    "df = df.groupby(\"cylinders\", as_index = False)\n",
    "df = df.mean()\n",
    "\n",
    "# your code here\n",
    "#raise NotImplementedError"
   ]
  },
  {
   "cell_type": "code",
   "execution_count": 31,
   "id": "d7c19017",
   "metadata": {
    "deletable": false,
    "editable": false,
    "nbgrader": {
     "cell_type": "code",
     "checksum": "3e86efbcbb8ba5aeccc5fc67503467ff",
     "grade": true,
     "grade_id": "cell-d36b71ce7866595b",
     "locked": true,
     "points": 1,
     "schema_version": 3,
     "solution": false,
     "task": false
    }
   },
   "outputs": [],
   "source": [
    "\"\"\"Do some visible checks\"\"\"\n",
    "\n",
    "assert np.array_equal(np.sort(df.cylinders.values), [3,4,5,6,8]), \"Your cylinders column does not have the right values\"\n",
    "\n",
    "assert np.isclose(df.loc[df['cylinders'] == 3].mpg, 20.55).all(), \"Mean for 3 cylinders should be 20.55\"\n"
   ]
  },
  {
   "cell_type": "code",
   "execution_count": 32,
   "id": "294ef24c",
   "metadata": {
    "deletable": false,
    "editable": false,
    "nbgrader": {
     "cell_type": "code",
     "checksum": "1648c235b72879645a86f5dc294dd60b",
     "grade": true,
     "grade_id": "cell-70c576ff140781a4",
     "locked": true,
     "points": 3,
     "schema_version": 3,
     "solution": false,
     "task": false
    }
   },
   "outputs": [
    {
     "data": {
      "text/plain": [
       "'Check whether the answer is correct (hidden test)'"
      ]
     },
     "execution_count": 32,
     "metadata": {},
     "output_type": "execute_result"
    }
   ],
   "source": [
    "\"\"\"Check whether the answer is correct (hidden test)\"\"\"\n"
   ]
  },
  {
   "cell_type": "markdown",
   "id": "c9b9f588",
   "metadata": {
    "deletable": false,
    "editable": false,
    "nbgrader": {
     "cell_type": "markdown",
     "checksum": "830182bcc8a4435478f6c702dfc9a72e",
     "grade": false,
     "grade_id": "cell-b238269d64d51ad8",
     "locked": true,
     "schema_version": 3,
     "solution": false,
     "task": false
    }
   },
   "source": [
    "### Question 9\n",
    "\n",
    "Questions 10, 11, and 12 ask you to produce some basic plots using either matplotlib, Pandas, or seaborn (to be manually graded).  For full credit, label all axes and make all essential plot features readily legible. \n",
    "\n",
    "For Question 9 (this question), using matplotlib directly, Pandas plotting functions, or seaborn plotting functions, make a **scatter plot** that gives `mpg` (y-axis) as a function of `weight` (x-axis) with the following features:\n",
    "\n",
    "1. Size should scale with vehicle horsepower.\n",
    "2. Color your points by the displacement (use a colormap of your choice).\n",
    "3. Your plots should both have an appropriate **title**, **x axis label**, and **y axis label**.  You may neglect a legend in this case\n",
    "4. Your font size should be legible as well.\n",
    "\n"
   ]
  },
  {
   "cell_type": "code",
   "execution_count": 33,
   "id": "857d524d",
   "metadata": {
    "deletable": false,
    "nbgrader": {
     "cell_type": "code",
     "checksum": "335c54e98fbaaa5053b24af122f7ea3c",
     "grade": true,
     "grade_id": "cell-9cd494a9ee931e0a",
     "locked": false,
     "points": 4,
     "schema_version": 3,
     "solution": true,
     "task": false
    }
   },
   "outputs": [
    {
     "data": {
      "image/png": "[encoded data removed]",
      "text/plain": [
       "<Figure size 432x288 with 1 Axes>"
      ]
     },
     "metadata": {
      "needs_background": "light"
     },
     "output_type": "display_data"
    }
   ],
   "source": [
    "plt.scatter(df_mpg.weight, df_mpg.mpg, df_mpg.horsepower, df_mpg.displacement, cmap = \"spring\")\n",
    "plt.xlabel(\"Weight (in lbs)\")\n",
    "plt.ylabel(\"MPG Rating\")\n",
    "plt.title(\"MPG as a Function of Weight\")\n",
    "plt.show()\n",
    "\n",
    "# your code here\n",
    "#raise NotImplementedError"
   ]
  },
  {
   "cell_type": "markdown",
   "id": "52c46680",
   "metadata": {
    "deletable": false,
    "editable": false,
    "nbgrader": {
     "cell_type": "markdown",
     "checksum": "5968b152459745bcb6d953a3f11fafbe",
     "grade": false,
     "grade_id": "cell-ca26d20ee840188f",
     "locked": true,
     "schema_version": 3,
     "solution": false,
     "task": false
    }
   },
   "source": [
    "### Question 10\n",
    "\n",
    "Using matplotlib, Pandas, or seaborn, make a **set of four histograms** that show the distribution of `mpg`, `displacement`, `horsepower`, and `weight`.  Choose appropriate bin sizes/counts, and include axis labels.  Make your figure(s) legible and as aesthetic as possible."
   ]
  },
  {
   "cell_type": "code",
   "execution_count": 34,
   "id": "766a6128",
   "metadata": {
    "deletable": false,
    "nbgrader": {
     "cell_type": "code",
     "checksum": "e8780507b60a7ac5b69a75799058cf08",
     "grade": true,
     "grade_id": "cell-fd63663900f19717",
     "locked": false,
     "points": 4,
     "schema_version": 3,
     "solution": true,
     "task": false
    }
   },
   "outputs": [
    {
     "data": {
      "image/png": "[encoded data removed]",
      "text/plain": [
       "<Figure size 1080x864 with 4 Axes>"
      ]
     },
     "metadata": {
      "needs_background": "light"
     },
     "output_type": "display_data"
    }
   ],
   "source": [
    "fig = plt.figure()\n",
    "ax1 = fig.add_subplot(2,2,1)\n",
    "ax2 = fig.add_subplot(2,2,2)\n",
    "ax3 = fig.add_subplot(2,2,3)\n",
    "ax4 = fig.add_subplot(2,2,4)\n",
    "ax1.hist(df_mpg.mpg, bins = 25, color = \"pink\")\n",
    "ax1.set_xlabel(\"MPG Rating\")\n",
    "ax1.set_ylabel(\"Frequency\")\n",
    "ax2.hist(df_mpg.displacement, bins = 10, color = \"peachpuff\")\n",
    "ax2.set_xlabel(\"Displacement\")\n",
    "ax2.set_ylabel(\"Frequency\")\n",
    "ax3.hist(df_mpg.horsepower, bins = 20, color = \"turquoise\")\n",
    "ax3.set_xlabel(\"Horsepower\")\n",
    "ax3.set_ylabel(\"Frequency\")\n",
    "ax4.hist(df_mpg.weight, bins = 25, color = \"violet\")\n",
    "ax4.set_xlabel(\"Weight (in lbs)\")\n",
    "ax4.set_ylabel(\"Frequency\")\n",
    "fig.set_size_inches(15, 12)\n",
    "fig.suptitle(\"Distributions of Attributes of df_mpg Dataset\", fontsize = 20)\n",
    "plt.subplots_adjust(wspace = .25, hspace = .25)\n",
    "\n",
    "# your code here\n",
    "#raise NotImplementedError"
   ]
  },
  {
   "cell_type": "markdown",
   "id": "acc0f611",
   "metadata": {
    "deletable": false,
    "editable": false,
    "nbgrader": {
     "cell_type": "markdown",
     "checksum": "c443eb8a29180b828b9fa18e6a42ef09",
     "grade": false,
     "grade_id": "cell-d9fefa5ffbd11e51",
     "locked": true,
     "schema_version": 3,
     "solution": false,
     "task": false
    }
   },
   "source": [
    "### Question 11\n",
    "\n",
    "Using matplotlib, Pandas, or seaborn, make a **boxplot** that gives `mpg` **grouped** by `cylinders`.  That is, you should have five separate box-and-whisker elements in your figure, one for each number of cylinders represented in the data.  Make sure axis labels and titles are appropriate and legible.\n"
   ]
  },
  {
   "cell_type": "code",
   "execution_count": 35,
   "id": "ec0f2a7a",
   "metadata": {
    "deletable": false,
    "nbgrader": {
     "cell_type": "code",
     "checksum": "ce02432f7ba60c9321fbdb1daa08587c",
     "grade": true,
     "grade_id": "cell-525f3dad7a3910ca",
     "locked": false,
     "points": 4,
     "schema_version": 3,
     "solution": true,
     "task": false
    }
   },
   "outputs": [
    {
     "data": {
      "image/png": "[encoded data removed]",
      "text/plain": [
       "<Figure size 1080x864 with 5 Axes>"
      ]
     },
     "metadata": {
      "needs_background": "light"
     },
     "output_type": "display_data"
    }
   ],
   "source": [
    "new_fig = plt.figure()\n",
    "ax1 = new_fig.add_subplot(3,3,1)\n",
    "ax2 = new_fig.add_subplot(3,3,2)\n",
    "ax3 = new_fig.add_subplot(3,3,3)\n",
    "ax4 = new_fig.add_subplot(3,3,4)\n",
    "ax5 = new_fig.add_subplot(3,3,5)\n",
    "ax1.boxplot(df_mpg.mpg[df_mpg.cylinders == 3], patch_artist = True)\n",
    "ax1.set_xlabel(\"3 cyclinders\")\n",
    "ax1.set_ylabel(\"MPG Rating\")\n",
    "ax2.boxplot(df_mpg.mpg[df_mpg.cylinders == 4], patch_artist = True)\n",
    "ax2.set_xlabel(\"4 cyclinders\")\n",
    "ax2.set_ylabel(\"MPG Rating\")\n",
    "ax3.boxplot(df_mpg.mpg[df_mpg.cylinders == 5], patch_artist = True)\n",
    "ax3.set_xlabel(\"5 cyclinders\")\n",
    "ax3.set_ylabel(\"MPG Rating\")\n",
    "ax4.boxplot(df_mpg.mpg[df_mpg.cylinders == 6], patch_artist = True)\n",
    "ax4.set_xlabel(\"6 cyclinders\")\n",
    "ax4.set_ylabel(\"MPG Rating\")\n",
    "ax5.boxplot(df_mpg.mpg[df_mpg.cylinders == 8], patch_artist = True)\n",
    "ax5.set_xlabel(\"8 cyclinders\")\n",
    "ax5.set_ylabel(\"MPG Rating\")\n",
    "new_fig.set_size_inches(15, 12)\n",
    "new_fig.suptitle(\"Boxplots of MPG Ratings Grouped by Number of Cylinders\", fontsize = 20)\n",
    "plt.subplots_adjust(wspace = .25, hspace = .25)\n",
    "\n",
    "# your code here\n",
    "#raise NotImplementedError"
   ]
  }
 ],
 "metadata": {
  "kernelspec": {
   "display_name": "Python 3",
   "language": "python",
   "name": "python3"
  },
  "language_info": {
   "codemirror_mode": {
    "name": "ipython",
    "version": 3
   },
   "file_extension": ".py",
   "mimetype": "text/x-python",
   "name": "python",
   "nbconvert_exporter": "python",
   "pygments_lexer": "ipython3",
   "version": "3.8.10"
  }
 },
 "nbformat": 4,
 "nbformat_minor": 5
}
