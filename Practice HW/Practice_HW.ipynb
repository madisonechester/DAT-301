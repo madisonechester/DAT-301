{
 "cells": [
  {
   "cell_type": "markdown",
   "id": "15b08488",
   "metadata": {},
   "source": [
    "Before you turn this problem in, make sure everything runs as expected. First, **restart the kernel** (in the menubar, select Kernel$\\rightarrow$Restart) and then **run all cells** (in the menubar, select Cell$\\rightarrow$Run All).\n",
    "\n",
    "Make sure you fill in any place that says `YOUR CODE HERE` or \"YOUR ANSWER HERE\", as well as your name and collaborators below:"
   ]
  },
  {
   "cell_type": "code",
   "execution_count": 5,
   "id": "7508b455",
   "metadata": {},
   "outputs": [
    {
     "ename": "ERROR",
     "evalue": "Error in parse(text = x, srcfile = src): <text>:1:16: unexpected symbol\n1: NAME = Madison Chester\n                   ^\n",
     "output_type": "error",
     "traceback": [
      "Error in parse(text = x, srcfile = src): <text>:1:16: unexpected symbol\n1: NAME = Madison Chester\n                   ^\nTraceback:\n"
     ]
    }
   ],
   "source": [
    "NAME = \"Madison Chester\"\n",
    "COLLABORATORS = "
   ]
  },
  {
   "cell_type": "markdown",
   "id": "3847a200",
   "metadata": {},
   "source": [
    "---"
   ]
  },
  {
   "cell_type": "code",
   "execution_count": null,
   "id": "9bdee320",
   "metadata": {
    "deletable": false,
    "editable": false,
    "nbgrader": {
     "cell_type": "code",
     "checksum": "fc38fd7aeede6b0ec1d2be7a3f8c4a96",
     "grade": false,
     "grade_id": "cell-0f50946791498a6b",
     "locked": true,
     "schema_version": 3,
     "solution": false,
     "task": false
    }
   },
   "outputs": [],
   "source": [
    "## import libraries needed\n",
    "## make sure you run this code first!\n",
    "\n",
    "library(testthat)\n",
    "library(digest)\n",
    "library(stringr)"
   ]
  },
  {
   "cell_type": "markdown",
   "id": "1415a501",
   "metadata": {
    "deletable": false,
    "editable": false,
    "nbgrader": {
     "cell_type": "markdown",
     "checksum": "d1aaa4c141ce281211e9638ec2ce17cf",
     "grade": false,
     "grade_id": "cell-3cb0110782d951f7",
     "locked": true,
     "schema_version": 3,
     "solution": false,
     "task": false
    }
   },
   "source": [
    "### Question 1\n",
    "\n",
    "Create a variable `x` and assign to it the vector `c(1,3,5,7)`.\n",
    "\n",
    "Also create the variable `y` and make it equal to `x` cubed."
   ]
  },
  {
   "cell_type": "code",
   "execution_count": null,
   "id": "a7b3e84b",
   "metadata": {
    "deletable": false,
    "nbgrader": {
     "cell_type": "code",
     "checksum": "03d234a692bb64ac0deaef7743a8219f",
     "grade": false,
     "grade_id": "cell-d576ecd366dd3f80",
     "locked": false,
     "schema_version": 3,
     "solution": true,
     "task": false
    }
   },
   "outputs": [],
   "source": [
    "x=c(1,3,5,7)\n",
    "\n",
    "y=x^3"
   ]
  },
  {
   "cell_type": "code",
   "execution_count": null,
   "id": "08a0a2ed",
   "metadata": {
    "deletable": false,
    "editable": false,
    "nbgrader": {
     "cell_type": "code",
     "checksum": "4ad4e9899ba175e4849383c57e36a3ec",
     "grade": true,
     "grade_id": "cell-6f7679cfa1c86e71",
     "locked": true,
     "points": 1,
     "schema_version": 3,
     "solution": false,
     "task": false
    }
   },
   "outputs": [],
   "source": [
    "# check whether you created vectors my_var and y, which are numeric and of length 4 \n",
    "\n",
    "library(testthat) #in case you forgot to run the first cell (but please run it anyways)\n",
    "\n",
    "if (test_that(desc=\"\", code={\n",
    "    expect_equal(is.vector(x), TRUE)\n",
    "    expect_equal(is.vector(y), TRUE)\n",
    "}) != TRUE) stop(\"Sorry, x or y is not created as a vector\")\n",
    "\n",
    "if (test_that(desc=\"\", code={\n",
    "    expect_equal(is.numeric(x), TRUE)\n",
    "    expect_equal(is.numeric(y), TRUE)\n",
    "}) != TRUE) stop(\"Sorry, x or y is not numeric\")\n",
    "\n",
    "if (test_that(desc=\"\", code={\n",
    "    expect_equal(length(x), 4)\n",
    "    expect_equal(length(y), 4)\n",
    "}) != TRUE) stop(\"Sorry, wrong length for at least one of the vectors\")"
   ]
  },
  {
   "cell_type": "code",
   "execution_count": null,
   "id": "ec9e136b",
   "metadata": {
    "deletable": false,
    "editable": false,
    "nbgrader": {
     "cell_type": "code",
     "checksum": "f2c5be335ce50dea1a4cf491d8f6dd5c",
     "grade": true,
     "grade_id": "cell-3ac9581d6dbff1bd",
     "locked": true,
     "points": 1,
     "schema_version": 3,
     "solution": false,
     "task": false
    }
   },
   "outputs": [],
   "source": [
    "# test whether x is correct (hidden test)\n"
   ]
  },
  {
   "cell_type": "code",
   "execution_count": null,
   "id": "077b0e51",
   "metadata": {
    "deletable": false,
    "editable": false,
    "nbgrader": {
     "cell_type": "code",
     "checksum": "8bae2ed433e0c223dcc3426822d05cd8",
     "grade": true,
     "grade_id": "cell-bac8545f21669ffc",
     "locked": true,
     "points": 1,
     "schema_version": 3,
     "solution": false,
     "task": false
    }
   },
   "outputs": [],
   "source": [
    "# test whether y is correct (hidden test)\n"
   ]
  },
  {
   "cell_type": "markdown",
   "id": "f369710c",
   "metadata": {
    "deletable": false,
    "editable": false,
    "nbgrader": {
     "cell_type": "markdown",
     "checksum": "89d6c444a8936b9cb08dbe31e7233d5e",
     "grade": false,
     "grade_id": "cell-eff65a2c6cd9ba85",
     "locked": true,
     "schema_version": 3,
     "solution": false,
     "task": false
    }
   },
   "source": [
    "### Question 2\n",
    "\n",
    "Each column of a dataframe generally represents:\n",
    "\n",
    "(a) A single observation\n",
    "\n",
    "(b) A variable, all elements of which must have the same atomic type\n",
    "\n",
    "(c) A variable, all elements of which can be different atomic types\n",
    "\n",
    "(d) A strictly numeric vector\n",
    "\n",
    "(e) An elaborate pun\n",
    "\n",
    "To answer this question, create a character variable `ans` and assign it one of the 5 letters that corresponds to the answer you think it is correct. For example, if you think `(e)` is correct, then type \n",
    "\n",
    "`ans = \"e\"`"
   ]
  },
  {
   "cell_type": "code",
   "execution_count": null,
   "id": "65c23e67",
   "metadata": {
    "deletable": false,
    "nbgrader": {
     "cell_type": "code",
     "checksum": "fad7f5c42729d7a4d8ee106674aaeb40",
     "grade": false,
     "grade_id": "cell-71e519d3d8802246",
     "locked": false,
     "schema_version": 3,
     "solution": true,
     "task": false
    }
   },
   "outputs": [],
   "source": [
    "ans = \"b\""
   ]
  },
  {
   "cell_type": "code",
   "execution_count": null,
   "id": "891007a8",
   "metadata": {
    "deletable": false,
    "editable": false,
    "nbgrader": {
     "cell_type": "code",
     "checksum": "2419e89edf8a184ffa2a6548154f3195",
     "grade": true,
     "grade_id": "cell-a7bd1bcb60296531",
     "locked": true,
     "points": 1,
     "schema_version": 3,
     "solution": false,
     "task": false
    }
   },
   "outputs": [],
   "source": [
    "# check whether `ans` is one of the characters {\"a\",\"b\",\"c\",\"d\",\"e\"}\n",
    "\n",
    "if (test_that(desc=\"\",code={\n",
    "    expect_equal(ans %in% c(\"a\",\"b\",\"c\",\"d\",\"e\"), TRUE)\n",
    "}) != TRUE) stop(\"Sorry, ans is not one of the letters a-e\")"
   ]
  },
  {
   "cell_type": "code",
   "execution_count": null,
   "id": "6ddf9046",
   "metadata": {
    "deletable": false,
    "editable": false,
    "nbgrader": {
     "cell_type": "code",
     "checksum": "7d79b4096f326b5997f508702ee21ff9",
     "grade": true,
     "grade_id": "cell-2e8efd83db684fd4",
     "locked": true,
     "points": 2,
     "schema_version": 3,
     "solution": false,
     "task": false
    }
   },
   "outputs": [],
   "source": [
    "# check whether your answer is correct (hidden test)\n"
   ]
  },
  {
   "cell_type": "markdown",
   "id": "ff22f495",
   "metadata": {
    "deletable": false,
    "editable": false,
    "nbgrader": {
     "cell_type": "markdown",
     "checksum": "1f463335830358ea26ac760f3e03224b",
     "grade": false,
     "grade_id": "cell-59cbfe45b78f68a2",
     "locked": true,
     "schema_version": 3,
     "solution": false,
     "task": false
    }
   },
   "source": [
    "### Question 3\n",
    "\n",
    "Let `x` be a numeric vector and suppose you want to extract all values not equal to `2`. Fill in the function below to return vector `y` such that `y` is every element of `x` minus the `2` values. Suppose\n",
    "\n",
    "`x = c(1,2,3,4,5)`\n",
    "\n",
    "Then your function should return \n",
    "\n",
    "`y` <br>\n",
    "`[1] 1 3 4 5`\n",
    "\n",
    "We create a function `remove_2()` below, within which you need to type `y` in terms of `x`, so that for various vectors `x` the output `remove_2(x)` always gives the entries of `x` that are not equal to `2`."
   ]
  },
  {
   "cell_type": "code",
   "execution_count": null,
   "id": "4e81b4d8",
   "metadata": {
    "deletable": false,
    "nbgrader": {
     "cell_type": "code",
     "checksum": "569924365bbce1d774b91568773487a7",
     "grade": false,
     "grade_id": "cell-2198cf32b9b8b140",
     "locked": false,
     "schema_version": 3,
     "solution": true,
     "task": false
    }
   },
   "outputs": [],
   "source": [
    "remove_2 = function(x){  # do NOT change this line of the code!\n",
    "\n",
    "y = x[x != 2]\n",
    "\n",
    "return(y)} # do NOT change this line of the code!"
   ]
  },
  {
   "cell_type": "code",
   "execution_count": null,
   "id": "00212572",
   "metadata": {
    "deletable": false,
    "editable": false,
    "nbgrader": {
     "cell_type": "code",
     "checksum": "7875f50101a27b23e45415e794c11940",
     "grade": true,
     "grade_id": "cell-279ac11698aec535",
     "locked": true,
     "points": 1,
     "schema_version": 3,
     "solution": false,
     "task": false
    }
   },
   "outputs": [],
   "source": [
    "#Check whether your function works on one test case:\n",
    "x1 = c(1,2,4,2,5,6)\n",
    "\n",
    "if (test_that(desc=\"\", code = {\n",
    "    expect_equal(remove_2(x1), c(1,4,5,6))\n",
    "}) != TRUE) stop(\"Didn't successfully remove 2!\")"
   ]
  },
  {
   "cell_type": "code",
   "execution_count": null,
   "id": "8dd393d9",
   "metadata": {
    "deletable": false,
    "editable": false,
    "nbgrader": {
     "cell_type": "code",
     "checksum": "dcc8e9acd83f9f8b32e5375a8b816366",
     "grade": true,
     "grade_id": "cell-d3a7e8d4a492dfb4",
     "locked": true,
     "points": 2,
     "schema_version": 3,
     "solution": false,
     "task": false
    }
   },
   "outputs": [],
   "source": [
    "# check whether your answer is correct (hidden test)\n"
   ]
  }
 ],
 "metadata": {
  "kernelspec": {
   "display_name": "R",
   "language": "R",
   "name": "ir"
  },
  "language_info": {
   "codemirror_mode": "r",
   "file_extension": ".r",
   "mimetype": "text/x-r-source",
   "name": "R",
   "pygments_lexer": "r",
   "version": "3.6.3"
  }
 },
 "nbformat": 4,
 "nbformat_minor": 5
}
